{
 "cells": [
  {
   "cell_type": "code",
   "execution_count": null,
   "id": "2f51d2e9",
   "metadata": {},
   "outputs": [],
   "source": []
  },
  {
   "cell_type": "markdown",
   "id": "854fafa3",
   "metadata": {},
   "source": [
    "# The Objective of this project:\n",
    "\n",
    "### As a Data Scientist working in an Airline company based in Canada, I am expected to do a complete data analysis to find trends and patterns in this dataset and also to Machine Learning Algorithms to predict the CLV of the new members who enrolled as members in the Airline company. CLV stands for Customer Lifetime Value. It is a metric used in marketing to measure the total value a customer is expected to bring to a business over the entire duration of their relationship with that business. CLV helps companies understand the long-term revenue potential of their customer base and can inform decisions related to customer acquisition, retention, and loyalty programs."
   ]
  },
  {
   "cell_type": "code",
   "execution_count": null,
   "id": "49db3a99",
   "metadata": {},
   "outputs": [],
   "source": []
  },
  {
   "cell_type": "markdown",
   "id": "af17e1ff",
   "metadata": {},
   "source": [
    "# Data Dictionary"
   ]
  },
  {
   "cell_type": "markdown",
   "id": "e5a3ac54",
   "metadata": {},
   "source": [
    "### 1. Loyalty Number: The customer's unique loyalty number.\n",
    "### 2. Counrty: The country of residence.\n",
    "### 3. Province: The province of residence.\n",
    "### 4. City: The city of residence.\n",
    "### 5. Postal Code: The postal code of residence.\n",
    "### 6. Gender: The gender of the members.\n",
    "### 7. Education: Highest educational level (High school or lower > College > Bachrlor > Master > Doctor).\n",
    "### 8. Salary: The annual income of the members.\n",
    "### 9. Gender: The gender of the members.\n",
    "### 10. Marital Status: The marital status of the members.\n",
    "### 11. Loyalty Card: The loyalty card status of the members (Star > Nora > Aurora).\n",
    "### 12. CLV: Customer lifetime value - Total invoice value for all flights ever booked by members.\n",
    "### 13. Enrollment Type: The Enrollment type of the members. (Standard > 2018 Promotion).\n",
    "### 14. Enrollment Year: The year members enrolled in membership program.\n",
    "### 15. Cancellation Year: The year members cancelled their membership.\n",
    "### 16. Cancellation Month: The month member cancelled their membership.\n",
    "### 17. Year: Year of the period.\n",
    "### 18. Month: Month of the period.\n",
    "### 19. Flights Booked: The number of flights for members only in the period.\n",
    "### 20. Flights with companions: The number of flights booked with additional passengers in the period.\n",
    "### 21. Total Flights: Sum of the flights booked and flights with companions.\n",
    "### 22. Distance: Flight distance traveled in the period (km).\n",
    "### 23. Points Accumulated: The loyalty points accumulated in the period.\n",
    "### 24. Points Redeemed: The loyalty points redeemed in the period.\n",
    "### 25. Dollar Cost Points Redeemed: The dollar equivalent for points redeemed in the period in CAD."
   ]
  },
  {
   "cell_type": "code",
   "execution_count": null,
   "id": "66465528",
   "metadata": {},
   "outputs": [],
   "source": []
  },
  {
   "cell_type": "markdown",
   "id": "3533a94c",
   "metadata": {},
   "source": [
    "# Importing The Dependencies"
   ]
  },
  {
   "cell_type": "code",
   "execution_count": 1,
   "id": "48b98e3b",
   "metadata": {},
   "outputs": [],
   "source": [
    "import numpy as np\n",
    "import pandas as pd\n",
    "import matplotlib.pyplot as plt\n",
    "import seaborn as sns\n",
    "plt.style.use('ggplot')"
   ]
  },
  {
   "cell_type": "code",
   "execution_count": null,
   "id": "25f7a8a2",
   "metadata": {},
   "outputs": [],
   "source": []
  },
  {
   "cell_type": "markdown",
   "id": "f3524c5a",
   "metadata": {},
   "source": [
    "# Importing The Dataset"
   ]
  },
  {
   "cell_type": "code",
   "execution_count": null,
   "id": "799533ea",
   "metadata": {},
   "outputs": [],
   "source": []
  },
  {
   "cell_type": "code",
   "execution_count": 2,
   "id": "93103cc5",
   "metadata": {},
   "outputs": [],
   "source": [
    "# Let's import the dataset for the project\n",
    "\n",
    "data1 = pd.read_csv('C:\\\\Users\\\\LENOVO USER\\\\Downloads\\\\Customer Loyalty History.csv')\n",
    "data2 = pd.read_csv('C:\\\\Users\\\\LENOVO USER\\\\Downloads\\\\Customer Flight Activity.csv')"
   ]
  },
  {
   "cell_type": "code",
   "execution_count": 3,
   "id": "435bd816",
   "metadata": {},
   "outputs": [],
   "source": [
    "# Let's concat the Customer Loyalty History and Customer Flight Activity data\n",
    "\n",
    "Airline_data = pd.concat([data1, data2])"
   ]
  },
  {
   "cell_type": "code",
   "execution_count": null,
   "id": "e660f74a",
   "metadata": {},
   "outputs": [],
   "source": []
  },
  {
   "cell_type": "markdown",
   "id": "d83e2278",
   "metadata": {},
   "source": [
    "# Check Top 5 Rows of the Dataset"
   ]
  },
  {
   "cell_type": "code",
   "execution_count": null,
   "id": "e5ec0757",
   "metadata": {},
   "outputs": [],
   "source": []
  },
  {
   "cell_type": "code",
   "execution_count": 4,
   "id": "0a0a59b3",
   "metadata": {},
   "outputs": [
    {
     "data": {
      "text/html": [
       "<div>\n",
       "<style scoped>\n",
       "    .dataframe tbody tr th:only-of-type {\n",
       "        vertical-align: middle;\n",
       "    }\n",
       "\n",
       "    .dataframe tbody tr th {\n",
       "        vertical-align: top;\n",
       "    }\n",
       "\n",
       "    .dataframe thead th {\n",
       "        text-align: right;\n",
       "    }\n",
       "</style>\n",
       "<table border=\"1\" class=\"dataframe\">\n",
       "  <thead>\n",
       "    <tr style=\"text-align: right;\">\n",
       "      <th></th>\n",
       "      <th>Loyalty Number</th>\n",
       "      <th>Country</th>\n",
       "      <th>Province</th>\n",
       "      <th>City</th>\n",
       "      <th>Postal Code</th>\n",
       "      <th>Gender</th>\n",
       "      <th>Education</th>\n",
       "      <th>Salary</th>\n",
       "      <th>Marital Status</th>\n",
       "      <th>Loyalty Card</th>\n",
       "      <th>CLV</th>\n",
       "      <th>Enrollment Type</th>\n",
       "      <th>Enrollment Year</th>\n",
       "      <th>Enrollment Month</th>\n",
       "      <th>Cancellation Year</th>\n",
       "      <th>Cancellation Month</th>\n",
       "      <th>Year</th>\n",
       "      <th>Month</th>\n",
       "      <th>Flights Booked</th>\n",
       "      <th>Flights with Companions</th>\n",
       "      <th>Total Flights</th>\n",
       "      <th>Distance</th>\n",
       "      <th>Points Accumulated</th>\n",
       "      <th>Points Redeemed</th>\n",
       "      <th>Dollar Cost Points Redeemed</th>\n",
       "    </tr>\n",
       "  </thead>\n",
       "  <tbody>\n",
       "    <tr>\n",
       "      <th>0</th>\n",
       "      <td>480934</td>\n",
       "      <td>Canada</td>\n",
       "      <td>Ontario</td>\n",
       "      <td>Toronto</td>\n",
       "      <td>M2Z 4K1</td>\n",
       "      <td>Female</td>\n",
       "      <td>Bachelor</td>\n",
       "      <td>83236.0</td>\n",
       "      <td>Married</td>\n",
       "      <td>Star</td>\n",
       "      <td>3839.14</td>\n",
       "      <td>Standard</td>\n",
       "      <td>2016.0</td>\n",
       "      <td>2.0</td>\n",
       "      <td>NaN</td>\n",
       "      <td>NaN</td>\n",
       "      <td>NaN</td>\n",
       "      <td>NaN</td>\n",
       "      <td>NaN</td>\n",
       "      <td>NaN</td>\n",
       "      <td>NaN</td>\n",
       "      <td>NaN</td>\n",
       "      <td>NaN</td>\n",
       "      <td>NaN</td>\n",
       "      <td>NaN</td>\n",
       "    </tr>\n",
       "    <tr>\n",
       "      <th>1</th>\n",
       "      <td>549612</td>\n",
       "      <td>Canada</td>\n",
       "      <td>Alberta</td>\n",
       "      <td>Edmonton</td>\n",
       "      <td>T3G 6Y6</td>\n",
       "      <td>Male</td>\n",
       "      <td>College</td>\n",
       "      <td>NaN</td>\n",
       "      <td>Divorced</td>\n",
       "      <td>Star</td>\n",
       "      <td>3839.61</td>\n",
       "      <td>Standard</td>\n",
       "      <td>2016.0</td>\n",
       "      <td>3.0</td>\n",
       "      <td>NaN</td>\n",
       "      <td>NaN</td>\n",
       "      <td>NaN</td>\n",
       "      <td>NaN</td>\n",
       "      <td>NaN</td>\n",
       "      <td>NaN</td>\n",
       "      <td>NaN</td>\n",
       "      <td>NaN</td>\n",
       "      <td>NaN</td>\n",
       "      <td>NaN</td>\n",
       "      <td>NaN</td>\n",
       "    </tr>\n",
       "    <tr>\n",
       "      <th>2</th>\n",
       "      <td>429460</td>\n",
       "      <td>Canada</td>\n",
       "      <td>British Columbia</td>\n",
       "      <td>Vancouver</td>\n",
       "      <td>V6E 3D9</td>\n",
       "      <td>Male</td>\n",
       "      <td>College</td>\n",
       "      <td>NaN</td>\n",
       "      <td>Single</td>\n",
       "      <td>Star</td>\n",
       "      <td>3839.75</td>\n",
       "      <td>Standard</td>\n",
       "      <td>2014.0</td>\n",
       "      <td>7.0</td>\n",
       "      <td>2018.0</td>\n",
       "      <td>1.0</td>\n",
       "      <td>NaN</td>\n",
       "      <td>NaN</td>\n",
       "      <td>NaN</td>\n",
       "      <td>NaN</td>\n",
       "      <td>NaN</td>\n",
       "      <td>NaN</td>\n",
       "      <td>NaN</td>\n",
       "      <td>NaN</td>\n",
       "      <td>NaN</td>\n",
       "    </tr>\n",
       "    <tr>\n",
       "      <th>3</th>\n",
       "      <td>608370</td>\n",
       "      <td>Canada</td>\n",
       "      <td>Ontario</td>\n",
       "      <td>Toronto</td>\n",
       "      <td>P1W 1K4</td>\n",
       "      <td>Male</td>\n",
       "      <td>College</td>\n",
       "      <td>NaN</td>\n",
       "      <td>Single</td>\n",
       "      <td>Star</td>\n",
       "      <td>3839.75</td>\n",
       "      <td>Standard</td>\n",
       "      <td>2013.0</td>\n",
       "      <td>2.0</td>\n",
       "      <td>NaN</td>\n",
       "      <td>NaN</td>\n",
       "      <td>NaN</td>\n",
       "      <td>NaN</td>\n",
       "      <td>NaN</td>\n",
       "      <td>NaN</td>\n",
       "      <td>NaN</td>\n",
       "      <td>NaN</td>\n",
       "      <td>NaN</td>\n",
       "      <td>NaN</td>\n",
       "      <td>NaN</td>\n",
       "    </tr>\n",
       "    <tr>\n",
       "      <th>4</th>\n",
       "      <td>530508</td>\n",
       "      <td>Canada</td>\n",
       "      <td>Quebec</td>\n",
       "      <td>Hull</td>\n",
       "      <td>J8Y 3Z5</td>\n",
       "      <td>Male</td>\n",
       "      <td>Bachelor</td>\n",
       "      <td>103495.0</td>\n",
       "      <td>Married</td>\n",
       "      <td>Star</td>\n",
       "      <td>3842.79</td>\n",
       "      <td>Standard</td>\n",
       "      <td>2014.0</td>\n",
       "      <td>10.0</td>\n",
       "      <td>NaN</td>\n",
       "      <td>NaN</td>\n",
       "      <td>NaN</td>\n",
       "      <td>NaN</td>\n",
       "      <td>NaN</td>\n",
       "      <td>NaN</td>\n",
       "      <td>NaN</td>\n",
       "      <td>NaN</td>\n",
       "      <td>NaN</td>\n",
       "      <td>NaN</td>\n",
       "      <td>NaN</td>\n",
       "    </tr>\n",
       "  </tbody>\n",
       "</table>\n",
       "</div>"
      ],
      "text/plain": [
       "   Loyalty Number Country          Province       City Postal Code  Gender  \\\n",
       "0          480934  Canada           Ontario    Toronto     M2Z 4K1  Female   \n",
       "1          549612  Canada           Alberta   Edmonton     T3G 6Y6    Male   \n",
       "2          429460  Canada  British Columbia  Vancouver     V6E 3D9    Male   \n",
       "3          608370  Canada           Ontario    Toronto     P1W 1K4    Male   \n",
       "4          530508  Canada            Quebec       Hull     J8Y 3Z5    Male   \n",
       "\n",
       "  Education    Salary Marital Status Loyalty Card      CLV Enrollment Type  \\\n",
       "0  Bachelor   83236.0        Married         Star  3839.14        Standard   \n",
       "1   College       NaN       Divorced         Star  3839.61        Standard   \n",
       "2   College       NaN         Single         Star  3839.75        Standard   \n",
       "3   College       NaN         Single         Star  3839.75        Standard   \n",
       "4  Bachelor  103495.0        Married         Star  3842.79        Standard   \n",
       "\n",
       "   Enrollment Year  Enrollment Month  Cancellation Year  Cancellation Month  \\\n",
       "0           2016.0               2.0                NaN                 NaN   \n",
       "1           2016.0               3.0                NaN                 NaN   \n",
       "2           2014.0               7.0             2018.0                 1.0   \n",
       "3           2013.0               2.0                NaN                 NaN   \n",
       "4           2014.0              10.0                NaN                 NaN   \n",
       "\n",
       "   Year  Month  Flights Booked  Flights with Companions  Total Flights  \\\n",
       "0   NaN    NaN             NaN                      NaN            NaN   \n",
       "1   NaN    NaN             NaN                      NaN            NaN   \n",
       "2   NaN    NaN             NaN                      NaN            NaN   \n",
       "3   NaN    NaN             NaN                      NaN            NaN   \n",
       "4   NaN    NaN             NaN                      NaN            NaN   \n",
       "\n",
       "   Distance  Points Accumulated  Points Redeemed  Dollar Cost Points Redeemed  \n",
       "0       NaN                 NaN              NaN                          NaN  \n",
       "1       NaN                 NaN              NaN                          NaN  \n",
       "2       NaN                 NaN              NaN                          NaN  \n",
       "3       NaN                 NaN              NaN                          NaN  \n",
       "4       NaN                 NaN              NaN                          NaN  "
      ]
     },
     "execution_count": 4,
     "metadata": {},
     "output_type": "execute_result"
    }
   ],
   "source": [
    "# To view all the columns in our dataset\n",
    "pd.set_option('display.max_columns', None)\n",
    "\n",
    "Airline_data.head()"
   ]
  },
  {
   "cell_type": "code",
   "execution_count": null,
   "id": "2cdacb7c",
   "metadata": {},
   "outputs": [],
   "source": []
  },
  {
   "cell_type": "markdown",
   "id": "0e40fce9",
   "metadata": {},
   "source": [
    "# Check Last 5 Rows of the Dataset"
   ]
  },
  {
   "cell_type": "code",
   "execution_count": 5,
   "id": "50376a7d",
   "metadata": {},
   "outputs": [
    {
     "data": {
      "text/html": [
       "<div>\n",
       "<style scoped>\n",
       "    .dataframe tbody tr th:only-of-type {\n",
       "        vertical-align: middle;\n",
       "    }\n",
       "\n",
       "    .dataframe tbody tr th {\n",
       "        vertical-align: top;\n",
       "    }\n",
       "\n",
       "    .dataframe thead th {\n",
       "        text-align: right;\n",
       "    }\n",
       "</style>\n",
       "<table border=\"1\" class=\"dataframe\">\n",
       "  <thead>\n",
       "    <tr style=\"text-align: right;\">\n",
       "      <th></th>\n",
       "      <th>Loyalty Number</th>\n",
       "      <th>Country</th>\n",
       "      <th>Province</th>\n",
       "      <th>City</th>\n",
       "      <th>Postal Code</th>\n",
       "      <th>Gender</th>\n",
       "      <th>Education</th>\n",
       "      <th>Salary</th>\n",
       "      <th>Marital Status</th>\n",
       "      <th>Loyalty Card</th>\n",
       "      <th>CLV</th>\n",
       "      <th>Enrollment Type</th>\n",
       "      <th>Enrollment Year</th>\n",
       "      <th>Enrollment Month</th>\n",
       "      <th>Cancellation Year</th>\n",
       "      <th>Cancellation Month</th>\n",
       "      <th>Year</th>\n",
       "      <th>Month</th>\n",
       "      <th>Flights Booked</th>\n",
       "      <th>Flights with Companions</th>\n",
       "      <th>Total Flights</th>\n",
       "      <th>Distance</th>\n",
       "      <th>Points Accumulated</th>\n",
       "      <th>Points Redeemed</th>\n",
       "      <th>Dollar Cost Points Redeemed</th>\n",
       "    </tr>\n",
       "  </thead>\n",
       "  <tbody>\n",
       "    <tr>\n",
       "      <th>405619</th>\n",
       "      <td>999902</td>\n",
       "      <td>NaN</td>\n",
       "      <td>NaN</td>\n",
       "      <td>NaN</td>\n",
       "      <td>NaN</td>\n",
       "      <td>NaN</td>\n",
       "      <td>NaN</td>\n",
       "      <td>NaN</td>\n",
       "      <td>NaN</td>\n",
       "      <td>NaN</td>\n",
       "      <td>NaN</td>\n",
       "      <td>NaN</td>\n",
       "      <td>NaN</td>\n",
       "      <td>NaN</td>\n",
       "      <td>NaN</td>\n",
       "      <td>NaN</td>\n",
       "      <td>2018.0</td>\n",
       "      <td>12.0</td>\n",
       "      <td>0.0</td>\n",
       "      <td>0.0</td>\n",
       "      <td>0.0</td>\n",
       "      <td>0.0</td>\n",
       "      <td>0.0</td>\n",
       "      <td>0.0</td>\n",
       "      <td>0.0</td>\n",
       "    </tr>\n",
       "    <tr>\n",
       "      <th>405620</th>\n",
       "      <td>999911</td>\n",
       "      <td>NaN</td>\n",
       "      <td>NaN</td>\n",
       "      <td>NaN</td>\n",
       "      <td>NaN</td>\n",
       "      <td>NaN</td>\n",
       "      <td>NaN</td>\n",
       "      <td>NaN</td>\n",
       "      <td>NaN</td>\n",
       "      <td>NaN</td>\n",
       "      <td>NaN</td>\n",
       "      <td>NaN</td>\n",
       "      <td>NaN</td>\n",
       "      <td>NaN</td>\n",
       "      <td>NaN</td>\n",
       "      <td>NaN</td>\n",
       "      <td>2018.0</td>\n",
       "      <td>12.0</td>\n",
       "      <td>0.0</td>\n",
       "      <td>0.0</td>\n",
       "      <td>0.0</td>\n",
       "      <td>0.0</td>\n",
       "      <td>0.0</td>\n",
       "      <td>0.0</td>\n",
       "      <td>0.0</td>\n",
       "    </tr>\n",
       "    <tr>\n",
       "      <th>405621</th>\n",
       "      <td>999940</td>\n",
       "      <td>NaN</td>\n",
       "      <td>NaN</td>\n",
       "      <td>NaN</td>\n",
       "      <td>NaN</td>\n",
       "      <td>NaN</td>\n",
       "      <td>NaN</td>\n",
       "      <td>NaN</td>\n",
       "      <td>NaN</td>\n",
       "      <td>NaN</td>\n",
       "      <td>NaN</td>\n",
       "      <td>NaN</td>\n",
       "      <td>NaN</td>\n",
       "      <td>NaN</td>\n",
       "      <td>NaN</td>\n",
       "      <td>NaN</td>\n",
       "      <td>2018.0</td>\n",
       "      <td>12.0</td>\n",
       "      <td>3.0</td>\n",
       "      <td>0.0</td>\n",
       "      <td>3.0</td>\n",
       "      <td>1233.0</td>\n",
       "      <td>123.0</td>\n",
       "      <td>0.0</td>\n",
       "      <td>0.0</td>\n",
       "    </tr>\n",
       "    <tr>\n",
       "      <th>405622</th>\n",
       "      <td>999982</td>\n",
       "      <td>NaN</td>\n",
       "      <td>NaN</td>\n",
       "      <td>NaN</td>\n",
       "      <td>NaN</td>\n",
       "      <td>NaN</td>\n",
       "      <td>NaN</td>\n",
       "      <td>NaN</td>\n",
       "      <td>NaN</td>\n",
       "      <td>NaN</td>\n",
       "      <td>NaN</td>\n",
       "      <td>NaN</td>\n",
       "      <td>NaN</td>\n",
       "      <td>NaN</td>\n",
       "      <td>NaN</td>\n",
       "      <td>NaN</td>\n",
       "      <td>2018.0</td>\n",
       "      <td>12.0</td>\n",
       "      <td>0.0</td>\n",
       "      <td>0.0</td>\n",
       "      <td>0.0</td>\n",
       "      <td>0.0</td>\n",
       "      <td>0.0</td>\n",
       "      <td>0.0</td>\n",
       "      <td>0.0</td>\n",
       "    </tr>\n",
       "    <tr>\n",
       "      <th>405623</th>\n",
       "      <td>999986</td>\n",
       "      <td>NaN</td>\n",
       "      <td>NaN</td>\n",
       "      <td>NaN</td>\n",
       "      <td>NaN</td>\n",
       "      <td>NaN</td>\n",
       "      <td>NaN</td>\n",
       "      <td>NaN</td>\n",
       "      <td>NaN</td>\n",
       "      <td>NaN</td>\n",
       "      <td>NaN</td>\n",
       "      <td>NaN</td>\n",
       "      <td>NaN</td>\n",
       "      <td>NaN</td>\n",
       "      <td>NaN</td>\n",
       "      <td>NaN</td>\n",
       "      <td>2018.0</td>\n",
       "      <td>12.0</td>\n",
       "      <td>0.0</td>\n",
       "      <td>0.0</td>\n",
       "      <td>0.0</td>\n",
       "      <td>0.0</td>\n",
       "      <td>0.0</td>\n",
       "      <td>0.0</td>\n",
       "      <td>0.0</td>\n",
       "    </tr>\n",
       "  </tbody>\n",
       "</table>\n",
       "</div>"
      ],
      "text/plain": [
       "        Loyalty Number Country Province City Postal Code Gender Education  \\\n",
       "405619          999902     NaN      NaN  NaN         NaN    NaN       NaN   \n",
       "405620          999911     NaN      NaN  NaN         NaN    NaN       NaN   \n",
       "405621          999940     NaN      NaN  NaN         NaN    NaN       NaN   \n",
       "405622          999982     NaN      NaN  NaN         NaN    NaN       NaN   \n",
       "405623          999986     NaN      NaN  NaN         NaN    NaN       NaN   \n",
       "\n",
       "        Salary Marital Status Loyalty Card  CLV Enrollment Type  \\\n",
       "405619     NaN            NaN          NaN  NaN             NaN   \n",
       "405620     NaN            NaN          NaN  NaN             NaN   \n",
       "405621     NaN            NaN          NaN  NaN             NaN   \n",
       "405622     NaN            NaN          NaN  NaN             NaN   \n",
       "405623     NaN            NaN          NaN  NaN             NaN   \n",
       "\n",
       "        Enrollment Year  Enrollment Month  Cancellation Year  \\\n",
       "405619              NaN               NaN                NaN   \n",
       "405620              NaN               NaN                NaN   \n",
       "405621              NaN               NaN                NaN   \n",
       "405622              NaN               NaN                NaN   \n",
       "405623              NaN               NaN                NaN   \n",
       "\n",
       "        Cancellation Month    Year  Month  Flights Booked  \\\n",
       "405619                 NaN  2018.0   12.0             0.0   \n",
       "405620                 NaN  2018.0   12.0             0.0   \n",
       "405621                 NaN  2018.0   12.0             3.0   \n",
       "405622                 NaN  2018.0   12.0             0.0   \n",
       "405623                 NaN  2018.0   12.0             0.0   \n",
       "\n",
       "        Flights with Companions  Total Flights  Distance  Points Accumulated  \\\n",
       "405619                      0.0            0.0       0.0                 0.0   \n",
       "405620                      0.0            0.0       0.0                 0.0   \n",
       "405621                      0.0            3.0    1233.0               123.0   \n",
       "405622                      0.0            0.0       0.0                 0.0   \n",
       "405623                      0.0            0.0       0.0                 0.0   \n",
       "\n",
       "        Points Redeemed  Dollar Cost Points Redeemed  \n",
       "405619              0.0                          0.0  \n",
       "405620              0.0                          0.0  \n",
       "405621              0.0                          0.0  \n",
       "405622              0.0                          0.0  \n",
       "405623              0.0                          0.0  "
      ]
     },
     "execution_count": 5,
     "metadata": {},
     "output_type": "execute_result"
    }
   ],
   "source": [
    "Airline_data.tail()"
   ]
  },
  {
   "cell_type": "code",
   "execution_count": null,
   "id": "43de3db8",
   "metadata": {},
   "outputs": [],
   "source": []
  },
  {
   "cell_type": "markdown",
   "id": "d8bae9d2",
   "metadata": {},
   "source": [
    "# Find the Shape of Our Dataset (Number of Rows and Number of Columns)"
   ]
  },
  {
   "cell_type": "code",
   "execution_count": null,
   "id": "d03491ec",
   "metadata": {},
   "outputs": [],
   "source": []
  },
  {
   "cell_type": "code",
   "execution_count": 6,
   "id": "0018b34d",
   "metadata": {},
   "outputs": [
    {
     "name": "stdout",
     "output_type": "stream",
     "text": [
      "Number of Rows 422361\n",
      "Number of Columns 25\n"
     ]
    }
   ],
   "source": [
    "print(\"Number of Rows\", Airline_data.shape[0])\n",
    "print(\"Number of Columns\", Airline_data.shape[1])"
   ]
  },
  {
   "cell_type": "markdown",
   "id": "687d1a23",
   "metadata": {},
   "source": [
    "### It is crucial to know that the dataset has 25 columns and 422,361 rows."
   ]
  },
  {
   "cell_type": "code",
   "execution_count": null,
   "id": "74e1bb19",
   "metadata": {},
   "outputs": [],
   "source": []
  },
  {
   "cell_type": "markdown",
   "id": "b23fead7",
   "metadata": {},
   "source": [
    "# Get the Information About Our Dataset Like Total Number of Rows, Total Number of Columns, Datatypes of Each Column And Memory Requirment"
   ]
  },
  {
   "cell_type": "code",
   "execution_count": null,
   "id": "6da44504",
   "metadata": {},
   "outputs": [],
   "source": []
  },
  {
   "cell_type": "code",
   "execution_count": 7,
   "id": "da5254ee",
   "metadata": {},
   "outputs": [
    {
     "name": "stdout",
     "output_type": "stream",
     "text": [
      "<class 'pandas.core.frame.DataFrame'>\n",
      "Int64Index: 422361 entries, 0 to 405623\n",
      "Data columns (total 25 columns):\n",
      " #   Column                       Non-Null Count   Dtype  \n",
      "---  ------                       --------------   -----  \n",
      " 0   Loyalty Number               422361 non-null  int64  \n",
      " 1   Country                      16737 non-null   object \n",
      " 2   Province                     16737 non-null   object \n",
      " 3   City                         16737 non-null   object \n",
      " 4   Postal Code                  16737 non-null   object \n",
      " 5   Gender                       16737 non-null   object \n",
      " 6   Education                    16737 non-null   object \n",
      " 7   Salary                       12499 non-null   float64\n",
      " 8   Marital Status               16737 non-null   object \n",
      " 9   Loyalty Card                 16737 non-null   object \n",
      " 10  CLV                          16737 non-null   float64\n",
      " 11  Enrollment Type              16737 non-null   object \n",
      " 12  Enrollment Year              16737 non-null   float64\n",
      " 13  Enrollment Month             16737 non-null   float64\n",
      " 14  Cancellation Year            2067 non-null    float64\n",
      " 15  Cancellation Month           2067 non-null    float64\n",
      " 16  Year                         405624 non-null  float64\n",
      " 17  Month                        405624 non-null  float64\n",
      " 18  Flights Booked               405624 non-null  float64\n",
      " 19  Flights with Companions      405624 non-null  float64\n",
      " 20  Total Flights                405624 non-null  float64\n",
      " 21  Distance                     405624 non-null  float64\n",
      " 22  Points Accumulated           405624 non-null  float64\n",
      " 23  Points Redeemed              405624 non-null  float64\n",
      " 24  Dollar Cost Points Redeemed  405624 non-null  float64\n",
      "dtypes: float64(15), int64(1), object(9)\n",
      "memory usage: 83.8+ MB\n"
     ]
    }
   ],
   "source": [
    "Airline_data.info()"
   ]
  },
  {
   "cell_type": "markdown",
   "id": "fb8a7b5d",
   "metadata": {},
   "source": [
    "### We have float64(15), int64(1), and object(9) in the dataset."
   ]
  },
  {
   "cell_type": "code",
   "execution_count": null,
   "id": "644f5b3e",
   "metadata": {},
   "outputs": [],
   "source": []
  },
  {
   "cell_type": "markdown",
   "id": "658c5a99",
   "metadata": {},
   "source": [
    "# Dropping Features Not Necessary For Our Prediction"
   ]
  },
  {
   "cell_type": "code",
   "execution_count": null,
   "id": "b6b67a7f",
   "metadata": {},
   "outputs": [],
   "source": []
  },
  {
   "cell_type": "code",
   "execution_count": 8,
   "id": "0a138510",
   "metadata": {},
   "outputs": [],
   "source": [
    "Airline_data = Airline_data.drop(\"Enrollment Month\", axis=1)"
   ]
  },
  {
   "cell_type": "code",
   "execution_count": 9,
   "id": "a6af313b",
   "metadata": {},
   "outputs": [],
   "source": [
    "Airline_data = Airline_data.drop(\"Cancellation Month\", axis=1)"
   ]
  },
  {
   "cell_type": "code",
   "execution_count": 10,
   "id": "2a07ece1",
   "metadata": {},
   "outputs": [],
   "source": [
    "Airline_data = Airline_data.drop(\"Month\", axis=1)"
   ]
  },
  {
   "cell_type": "code",
   "execution_count": 11,
   "id": "b0142342",
   "metadata": {},
   "outputs": [],
   "source": [
    "Airline_data = Airline_data.drop(\"Postal Code\", axis=1)"
   ]
  },
  {
   "cell_type": "code",
   "execution_count": 12,
   "id": "a0630140",
   "metadata": {},
   "outputs": [
    {
     "data": {
      "text/html": [
       "<div>\n",
       "<style scoped>\n",
       "    .dataframe tbody tr th:only-of-type {\n",
       "        vertical-align: middle;\n",
       "    }\n",
       "\n",
       "    .dataframe tbody tr th {\n",
       "        vertical-align: top;\n",
       "    }\n",
       "\n",
       "    .dataframe thead th {\n",
       "        text-align: right;\n",
       "    }\n",
       "</style>\n",
       "<table border=\"1\" class=\"dataframe\">\n",
       "  <thead>\n",
       "    <tr style=\"text-align: right;\">\n",
       "      <th></th>\n",
       "      <th>Loyalty Number</th>\n",
       "      <th>Country</th>\n",
       "      <th>Province</th>\n",
       "      <th>City</th>\n",
       "      <th>Gender</th>\n",
       "      <th>Education</th>\n",
       "      <th>Salary</th>\n",
       "      <th>Marital Status</th>\n",
       "      <th>Loyalty Card</th>\n",
       "      <th>CLV</th>\n",
       "      <th>Enrollment Type</th>\n",
       "      <th>Enrollment Year</th>\n",
       "      <th>Cancellation Year</th>\n",
       "      <th>Year</th>\n",
       "      <th>Flights Booked</th>\n",
       "      <th>Flights with Companions</th>\n",
       "      <th>Total Flights</th>\n",
       "      <th>Distance</th>\n",
       "      <th>Points Accumulated</th>\n",
       "      <th>Points Redeemed</th>\n",
       "      <th>Dollar Cost Points Redeemed</th>\n",
       "    </tr>\n",
       "  </thead>\n",
       "  <tbody>\n",
       "    <tr>\n",
       "      <th>0</th>\n",
       "      <td>480934</td>\n",
       "      <td>Canada</td>\n",
       "      <td>Ontario</td>\n",
       "      <td>Toronto</td>\n",
       "      <td>Female</td>\n",
       "      <td>Bachelor</td>\n",
       "      <td>83236.0</td>\n",
       "      <td>Married</td>\n",
       "      <td>Star</td>\n",
       "      <td>3839.14</td>\n",
       "      <td>Standard</td>\n",
       "      <td>2016.0</td>\n",
       "      <td>NaN</td>\n",
       "      <td>NaN</td>\n",
       "      <td>NaN</td>\n",
       "      <td>NaN</td>\n",
       "      <td>NaN</td>\n",
       "      <td>NaN</td>\n",
       "      <td>NaN</td>\n",
       "      <td>NaN</td>\n",
       "      <td>NaN</td>\n",
       "    </tr>\n",
       "  </tbody>\n",
       "</table>\n",
       "</div>"
      ],
      "text/plain": [
       "   Loyalty Number Country Province     City  Gender Education   Salary  \\\n",
       "0          480934  Canada  Ontario  Toronto  Female  Bachelor  83236.0   \n",
       "\n",
       "  Marital Status Loyalty Card      CLV Enrollment Type  Enrollment Year  \\\n",
       "0        Married         Star  3839.14        Standard           2016.0   \n",
       "\n",
       "   Cancellation Year  Year  Flights Booked  Flights with Companions  \\\n",
       "0                NaN   NaN             NaN                      NaN   \n",
       "\n",
       "   Total Flights  Distance  Points Accumulated  Points Redeemed  \\\n",
       "0            NaN       NaN                 NaN              NaN   \n",
       "\n",
       "   Dollar Cost Points Redeemed  \n",
       "0                          NaN  "
      ]
     },
     "execution_count": 12,
     "metadata": {},
     "output_type": "execute_result"
    }
   ],
   "source": [
    "# Let's check if the features dropped were dropped successfully\n",
    "\n",
    "Airline_data.head(1)"
   ]
  },
  {
   "cell_type": "markdown",
   "id": "9b0acf71",
   "metadata": {},
   "source": [
    "### Four features in the data were dropped."
   ]
  },
  {
   "cell_type": "code",
   "execution_count": null,
   "id": "8b74d062",
   "metadata": {},
   "outputs": [],
   "source": []
  },
  {
   "cell_type": "markdown",
   "id": "16daf09c",
   "metadata": {},
   "source": [
    "# Check Null Values in the Dataset"
   ]
  },
  {
   "cell_type": "code",
   "execution_count": null,
   "id": "21fee6ee",
   "metadata": {},
   "outputs": [],
   "source": []
  },
  {
   "cell_type": "code",
   "execution_count": 13,
   "id": "99c7c550",
   "metadata": {},
   "outputs": [
    {
     "data": {
      "text/plain": [
       "Loyalty Number                      0\n",
       "Country                        405624\n",
       "Province                       405624\n",
       "City                           405624\n",
       "Gender                         405624\n",
       "Education                      405624\n",
       "Salary                         409862\n",
       "Marital Status                 405624\n",
       "Loyalty Card                   405624\n",
       "CLV                            405624\n",
       "Enrollment Type                405624\n",
       "Enrollment Year                405624\n",
       "Cancellation Year              420294\n",
       "Year                            16737\n",
       "Flights Booked                  16737\n",
       "Flights with Companions         16737\n",
       "Total Flights                   16737\n",
       "Distance                        16737\n",
       "Points Accumulated              16737\n",
       "Points Redeemed                 16737\n",
       "Dollar Cost Points Redeemed     16737\n",
       "dtype: int64"
      ]
     },
     "execution_count": 13,
     "metadata": {},
     "output_type": "execute_result"
    }
   ],
   "source": [
    "Airline_data.isnull().sum()"
   ]
  },
  {
   "cell_type": "code",
   "execution_count": null,
   "id": "b043248e",
   "metadata": {},
   "outputs": [],
   "source": []
  },
  {
   "cell_type": "markdown",
   "id": "b884b073",
   "metadata": {},
   "source": [
    "# Handling Missing Values"
   ]
  },
  {
   "cell_type": "markdown",
   "id": "37a95446",
   "metadata": {},
   "source": [
    "### Mode.\n",
    "\n",
    "### Median."
   ]
  },
  {
   "cell_type": "code",
   "execution_count": null,
   "id": "cf520ed6",
   "metadata": {},
   "outputs": [],
   "source": []
  },
  {
   "cell_type": "code",
   "execution_count": 14,
   "id": "f6f642c8",
   "metadata": {},
   "outputs": [
    {
     "data": {
      "text/html": [
       "<div>\n",
       "<style scoped>\n",
       "    .dataframe tbody tr th:only-of-type {\n",
       "        vertical-align: middle;\n",
       "    }\n",
       "\n",
       "    .dataframe tbody tr th {\n",
       "        vertical-align: top;\n",
       "    }\n",
       "\n",
       "    .dataframe thead th {\n",
       "        text-align: right;\n",
       "    }\n",
       "</style>\n",
       "<table border=\"1\" class=\"dataframe\">\n",
       "  <thead>\n",
       "    <tr style=\"text-align: right;\">\n",
       "      <th></th>\n",
       "      <th>Loyalty Number</th>\n",
       "      <th>Country</th>\n",
       "      <th>Province</th>\n",
       "      <th>City</th>\n",
       "      <th>Gender</th>\n",
       "      <th>Education</th>\n",
       "      <th>Salary</th>\n",
       "      <th>Marital Status</th>\n",
       "      <th>Loyalty Card</th>\n",
       "      <th>CLV</th>\n",
       "      <th>Enrollment Type</th>\n",
       "      <th>Enrollment Year</th>\n",
       "      <th>Cancellation Year</th>\n",
       "      <th>Year</th>\n",
       "      <th>Flights Booked</th>\n",
       "      <th>Flights with Companions</th>\n",
       "      <th>Total Flights</th>\n",
       "      <th>Distance</th>\n",
       "      <th>Points Accumulated</th>\n",
       "      <th>Points Redeemed</th>\n",
       "      <th>Dollar Cost Points Redeemed</th>\n",
       "    </tr>\n",
       "  </thead>\n",
       "  <tbody>\n",
       "    <tr>\n",
       "      <th>0</th>\n",
       "      <td>480934</td>\n",
       "      <td>Canada</td>\n",
       "      <td>Ontario</td>\n",
       "      <td>Toronto</td>\n",
       "      <td>Female</td>\n",
       "      <td>Bachelor</td>\n",
       "      <td>83236.0</td>\n",
       "      <td>Married</td>\n",
       "      <td>Star</td>\n",
       "      <td>3839.14</td>\n",
       "      <td>Standard</td>\n",
       "      <td>2016.0</td>\n",
       "      <td>NaN</td>\n",
       "      <td>NaN</td>\n",
       "      <td>NaN</td>\n",
       "      <td>NaN</td>\n",
       "      <td>NaN</td>\n",
       "      <td>NaN</td>\n",
       "      <td>NaN</td>\n",
       "      <td>NaN</td>\n",
       "      <td>NaN</td>\n",
       "    </tr>\n",
       "  </tbody>\n",
       "</table>\n",
       "</div>"
      ],
      "text/plain": [
       "   Loyalty Number Country Province     City  Gender Education   Salary  \\\n",
       "0          480934  Canada  Ontario  Toronto  Female  Bachelor  83236.0   \n",
       "\n",
       "  Marital Status Loyalty Card      CLV Enrollment Type  Enrollment Year  \\\n",
       "0        Married         Star  3839.14        Standard           2016.0   \n",
       "\n",
       "   Cancellation Year  Year  Flights Booked  Flights with Companions  \\\n",
       "0                NaN   NaN             NaN                      NaN   \n",
       "\n",
       "   Total Flights  Distance  Points Accumulated  Points Redeemed  \\\n",
       "0            NaN       NaN                 NaN              NaN   \n",
       "\n",
       "   Dollar Cost Points Redeemed  \n",
       "0                          NaN  "
      ]
     },
     "execution_count": 14,
     "metadata": {},
     "output_type": "execute_result"
    }
   ],
   "source": [
    "# Let's view our data\n",
    "\n",
    "Airline_data.head(1)"
   ]
  },
  {
   "cell_type": "code",
   "execution_count": null,
   "id": "855df46c",
   "metadata": {},
   "outputs": [],
   "source": []
  },
  {
   "cell_type": "code",
   "execution_count": 15,
   "id": "0d098f04",
   "metadata": {},
   "outputs": [],
   "source": [
    "# Fill missing values in categorical columns with mode\n",
    "\n",
    "Airline_data[\"Country\"].fillna(Airline_data[\"Country\"].mode()[0], inplace=True)"
   ]
  },
  {
   "cell_type": "code",
   "execution_count": 16,
   "id": "d88bead2",
   "metadata": {},
   "outputs": [],
   "source": [
    "Airline_data[\"Province\"].fillna(Airline_data[\"Province\"].mode()[0], inplace=True)"
   ]
  },
  {
   "cell_type": "code",
   "execution_count": 17,
   "id": "7c129c8d",
   "metadata": {},
   "outputs": [],
   "source": [
    "Airline_data[\"City\"].fillna(Airline_data[\"City\"].mode()[0], inplace=True)"
   ]
  },
  {
   "cell_type": "code",
   "execution_count": 18,
   "id": "12c47f2e",
   "metadata": {},
   "outputs": [],
   "source": [
    "Airline_data[\"Gender\"].fillna(Airline_data[\"Gender\"].mode()[0], inplace=True)"
   ]
  },
  {
   "cell_type": "code",
   "execution_count": 19,
   "id": "6a4c5faf",
   "metadata": {},
   "outputs": [],
   "source": [
    "Airline_data[\"Education\"].fillna(Airline_data[\"Education\"].mode()[0], inplace=True)"
   ]
  },
  {
   "cell_type": "code",
   "execution_count": 20,
   "id": "aa6fc20d",
   "metadata": {},
   "outputs": [],
   "source": [
    "Airline_data[\"Marital Status\"].fillna(Airline_data[\"Marital Status\"].mode()[0], inplace=True)"
   ]
  },
  {
   "cell_type": "code",
   "execution_count": 21,
   "id": "8895fc8f",
   "metadata": {},
   "outputs": [],
   "source": [
    "Airline_data[\"Loyalty Card\"].fillna(Airline_data[\"Loyalty Card\"].mode()[0], inplace=True)"
   ]
  },
  {
   "cell_type": "code",
   "execution_count": 22,
   "id": "c8d30611",
   "metadata": {},
   "outputs": [],
   "source": [
    "Airline_data[\"Enrollment Type\"].fillna(Airline_data[\"Enrollment Type\"].mode()[0], inplace=True)"
   ]
  },
  {
   "cell_type": "code",
   "execution_count": 23,
   "id": "fb4cb1b8",
   "metadata": {},
   "outputs": [],
   "source": [
    "Airline_data[\"Enrollment Year\"].fillna(Airline_data[\"Enrollment Year\"].mode()[0], inplace=True)"
   ]
  },
  {
   "cell_type": "code",
   "execution_count": 24,
   "id": "592b1ca6",
   "metadata": {},
   "outputs": [],
   "source": [
    "Airline_data[\"Cancellation Year\"].fillna(Airline_data[\"Cancellation Year\"].mode()[0], inplace=True)"
   ]
  },
  {
   "cell_type": "code",
   "execution_count": 25,
   "id": "8cc248e3",
   "metadata": {},
   "outputs": [],
   "source": [
    "Airline_data[\"Year\"].fillna(Airline_data[\"Year\"].mode()[0], inplace=True)"
   ]
  },
  {
   "cell_type": "code",
   "execution_count": null,
   "id": "e713c323",
   "metadata": {},
   "outputs": [],
   "source": []
  },
  {
   "cell_type": "code",
   "execution_count": 26,
   "id": "61fe9878",
   "metadata": {},
   "outputs": [],
   "source": [
    "# Fill missing values in numerical columns with the median because there are outliers in our data\n",
    "\n",
    "Airline_data[\"Salary\"].fillna(Airline_data[\"Salary\"].median(), inplace=True)"
   ]
  },
  {
   "cell_type": "code",
   "execution_count": 27,
   "id": "dbcb5ea3",
   "metadata": {},
   "outputs": [],
   "source": [
    "Airline_data[\"CLV\"].fillna(Airline_data[\"CLV\"].median(), inplace=True)"
   ]
  },
  {
   "cell_type": "code",
   "execution_count": 28,
   "id": "4ab6fe14",
   "metadata": {},
   "outputs": [],
   "source": [
    "Airline_data[\"Flights Booked\"].fillna(Airline_data[\"Flights Booked\"].median(), inplace=True)"
   ]
  },
  {
   "cell_type": "code",
   "execution_count": 29,
   "id": "ffe108f7",
   "metadata": {},
   "outputs": [],
   "source": [
    "Airline_data[\"Flights with Companions\"].fillna(Airline_data[\"Flights with Companions\"].median(), inplace=True)"
   ]
  },
  {
   "cell_type": "code",
   "execution_count": 30,
   "id": "218dc664",
   "metadata": {},
   "outputs": [],
   "source": [
    "Airline_data[\"Total Flights\"].fillna(Airline_data[\"Total Flights\"].median(), inplace=True)"
   ]
  },
  {
   "cell_type": "code",
   "execution_count": 31,
   "id": "d5a093f1",
   "metadata": {},
   "outputs": [],
   "source": [
    "Airline_data[\"Distance\"].fillna(Airline_data[\"Distance\"].median(), inplace=True)"
   ]
  },
  {
   "cell_type": "code",
   "execution_count": 32,
   "id": "35d45b45",
   "metadata": {},
   "outputs": [],
   "source": [
    "Airline_data[\"Points Accumulated\"].fillna(Airline_data[\"Points Accumulated\"].median(), inplace=True)"
   ]
  },
  {
   "cell_type": "code",
   "execution_count": 33,
   "id": "db49ec1e",
   "metadata": {},
   "outputs": [],
   "source": [
    "Airline_data[\"Points Redeemed\"].fillna(Airline_data[\"Points Redeemed\"].median(), inplace=True)"
   ]
  },
  {
   "cell_type": "code",
   "execution_count": 34,
   "id": "26ebd6b2",
   "metadata": {},
   "outputs": [],
   "source": [
    "Airline_data[\"Dollar Cost Points Redeemed\"].fillna(Airline_data[\"Dollar Cost Points Redeemed\"].median(), inplace=True)"
   ]
  },
  {
   "cell_type": "code",
   "execution_count": null,
   "id": "bde338cc",
   "metadata": {},
   "outputs": [],
   "source": []
  },
  {
   "cell_type": "code",
   "execution_count": 35,
   "id": "84370c80",
   "metadata": {},
   "outputs": [
    {
     "data": {
      "text/plain": [
       "Loyalty Number                 0\n",
       "Country                        0\n",
       "Province                       0\n",
       "City                           0\n",
       "Gender                         0\n",
       "Education                      0\n",
       "Salary                         0\n",
       "Marital Status                 0\n",
       "Loyalty Card                   0\n",
       "CLV                            0\n",
       "Enrollment Type                0\n",
       "Enrollment Year                0\n",
       "Cancellation Year              0\n",
       "Year                           0\n",
       "Flights Booked                 0\n",
       "Flights with Companions        0\n",
       "Total Flights                  0\n",
       "Distance                       0\n",
       "Points Accumulated             0\n",
       "Points Redeemed                0\n",
       "Dollar Cost Points Redeemed    0\n",
       "dtype: int64"
      ]
     },
     "execution_count": 35,
     "metadata": {},
     "output_type": "execute_result"
    }
   ],
   "source": [
    "# Let's check if there is missing values were successfully replaced\n",
    "\n",
    "Airline_data.isnull().sum()"
   ]
  },
  {
   "cell_type": "code",
   "execution_count": null,
   "id": "dd862020",
   "metadata": {},
   "outputs": [],
   "source": []
  },
  {
   "cell_type": "markdown",
   "id": "05e5192f",
   "metadata": {},
   "source": [
    "# Data Cleaning"
   ]
  },
  {
   "cell_type": "code",
   "execution_count": null,
   "id": "1fd1e69d",
   "metadata": {},
   "outputs": [],
   "source": []
  },
  {
   "cell_type": "code",
   "execution_count": 36,
   "id": "6e1eb0c2",
   "metadata": {},
   "outputs": [
    {
     "name": "stdout",
     "output_type": "stream",
     "text": [
      "<class 'pandas.core.frame.DataFrame'>\n",
      "Int64Index: 422361 entries, 0 to 405623\n",
      "Data columns (total 21 columns):\n",
      " #   Column                       Non-Null Count   Dtype  \n",
      "---  ------                       --------------   -----  \n",
      " 0   Loyalty Number               422361 non-null  int64  \n",
      " 1   Country                      422361 non-null  object \n",
      " 2   Province                     422361 non-null  object \n",
      " 3   City                         422361 non-null  object \n",
      " 4   Gender                       422361 non-null  object \n",
      " 5   Education                    422361 non-null  object \n",
      " 6   Salary                       422361 non-null  float64\n",
      " 7   Marital Status               422361 non-null  object \n",
      " 8   Loyalty Card                 422361 non-null  object \n",
      " 9   CLV                          422361 non-null  float64\n",
      " 10  Enrollment Type              422361 non-null  object \n",
      " 11  Enrollment Year              422361 non-null  float64\n",
      " 12  Cancellation Year            422361 non-null  float64\n",
      " 13  Year                         422361 non-null  float64\n",
      " 14  Flights Booked               422361 non-null  float64\n",
      " 15  Flights with Companions      422361 non-null  float64\n",
      " 16  Total Flights                422361 non-null  float64\n",
      " 17  Distance                     422361 non-null  float64\n",
      " 18  Points Accumulated           422361 non-null  float64\n",
      " 19  Points Redeemed              422361 non-null  float64\n",
      " 20  Dollar Cost Points Redeemed  422361 non-null  float64\n",
      "dtypes: float64(12), int64(1), object(8)\n",
      "memory usage: 70.9+ MB\n"
     ]
    }
   ],
   "source": [
    "# Let's check the information about the data\n",
    "\n",
    "Airline_data.info()"
   ]
  },
  {
   "cell_type": "code",
   "execution_count": null,
   "id": "cbff6b20",
   "metadata": {},
   "outputs": [],
   "source": []
  },
  {
   "cell_type": "code",
   "execution_count": 37,
   "id": "b10d6988",
   "metadata": {},
   "outputs": [
    {
     "data": {
      "text/html": [
       "<div>\n",
       "<style scoped>\n",
       "    .dataframe tbody tr th:only-of-type {\n",
       "        vertical-align: middle;\n",
       "    }\n",
       "\n",
       "    .dataframe tbody tr th {\n",
       "        vertical-align: top;\n",
       "    }\n",
       "\n",
       "    .dataframe thead th {\n",
       "        text-align: right;\n",
       "    }\n",
       "</style>\n",
       "<table border=\"1\" class=\"dataframe\">\n",
       "  <thead>\n",
       "    <tr style=\"text-align: right;\">\n",
       "      <th></th>\n",
       "      <th>Loyalty Number</th>\n",
       "      <th>Country</th>\n",
       "      <th>Province</th>\n",
       "      <th>City</th>\n",
       "      <th>Gender</th>\n",
       "      <th>Education</th>\n",
       "      <th>Salary</th>\n",
       "      <th>Marital Status</th>\n",
       "      <th>Loyalty Card</th>\n",
       "      <th>CLV</th>\n",
       "      <th>Enrollment Type</th>\n",
       "      <th>Enrollment Year</th>\n",
       "      <th>Cancellation Year</th>\n",
       "      <th>Year</th>\n",
       "      <th>Flights Booked</th>\n",
       "      <th>Flights with Companions</th>\n",
       "      <th>Total Flights</th>\n",
       "      <th>Distance</th>\n",
       "      <th>Points Accumulated</th>\n",
       "      <th>Points Redeemed</th>\n",
       "      <th>Dollar Cost Points Redeemed</th>\n",
       "    </tr>\n",
       "  </thead>\n",
       "  <tbody>\n",
       "    <tr>\n",
       "      <th>0</th>\n",
       "      <td>480934</td>\n",
       "      <td>Canada</td>\n",
       "      <td>Ontario</td>\n",
       "      <td>Toronto</td>\n",
       "      <td>Female</td>\n",
       "      <td>Bachelor</td>\n",
       "      <td>83236.0</td>\n",
       "      <td>Married</td>\n",
       "      <td>Star</td>\n",
       "      <td>3839.14</td>\n",
       "      <td>Standard</td>\n",
       "      <td>2016</td>\n",
       "      <td>2018</td>\n",
       "      <td>2017</td>\n",
       "      <td>1</td>\n",
       "      <td>0</td>\n",
       "      <td>1</td>\n",
       "      <td>488.0</td>\n",
       "      <td>50</td>\n",
       "      <td>0</td>\n",
       "      <td>0</td>\n",
       "    </tr>\n",
       "  </tbody>\n",
       "</table>\n",
       "</div>"
      ],
      "text/plain": [
       "   Loyalty Number Country Province     City  Gender Education   Salary  \\\n",
       "0          480934  Canada  Ontario  Toronto  Female  Bachelor  83236.0   \n",
       "\n",
       "  Marital Status Loyalty Card      CLV Enrollment Type  Enrollment Year  \\\n",
       "0        Married         Star  3839.14        Standard             2016   \n",
       "\n",
       "   Cancellation Year  Year  Flights Booked  Flights with Companions  \\\n",
       "0               2018  2017               1                        0   \n",
       "\n",
       "   Total Flights  Distance  Points Accumulated  Points Redeemed  \\\n",
       "0              1     488.0                  50                0   \n",
       "\n",
       "   Dollar Cost Points Redeemed  \n",
       "0                            0  "
      ]
     },
     "execution_count": 37,
     "metadata": {},
     "output_type": "execute_result"
    }
   ],
   "source": [
    "# Convert some features from float to integer.\n",
    "\n",
    "Airline_data[\"Enrollment Year\"] = Airline_data['Enrollment Year'].astype(int)\n",
    "Airline_data[\"Cancellation Year\"] = Airline_data[\"Cancellation Year\"].astype(int)\n",
    "Airline_data[\"Year\"] = Airline_data[\"Year\"].astype(int)\n",
    "Airline_data[\"Flights Booked\"] = Airline_data[\"Flights Booked\"].astype(int)\n",
    "Airline_data[\"Flights with Companions\"] = Airline_data[\"Flights with Companions\"].astype(int)\n",
    "Airline_data[\"Total Flights\"] = Airline_data[\"Total Flights\"].astype(int)\n",
    "Airline_data[\"Points Accumulated\"] = Airline_data[\"Points Accumulated\"].astype(int)\n",
    "Airline_data[\"Points Redeemed\"] = Airline_data[\"Points Redeemed\"].astype(int)\n",
    "Airline_data[\"Dollar Cost Points Redeemed\"] = Airline_data[\"Dollar Cost Points Redeemed\"].astype(int)\n",
    "\n",
    "# Let's check if they were converted successfully\n",
    "Airline_data.head(1)"
   ]
  },
  {
   "cell_type": "code",
   "execution_count": null,
   "id": "8c38f7cc",
   "metadata": {},
   "outputs": [],
   "source": []
  },
  {
   "cell_type": "code",
   "execution_count": 38,
   "id": "90e397b5",
   "metadata": {},
   "outputs": [
    {
     "data": {
      "text/plain": [
       "164775"
      ]
     },
     "execution_count": 38,
     "metadata": {},
     "output_type": "execute_result"
    }
   ],
   "source": [
    "# Let's check for any duplicates\n",
    "\n",
    "Airline_data.duplicated().sum()"
   ]
  },
  {
   "cell_type": "markdown",
   "id": "c26731d6",
   "metadata": {},
   "source": [
    "### There are 166,775 duolicates in the data."
   ]
  },
  {
   "cell_type": "code",
   "execution_count": 39,
   "id": "91ebc845",
   "metadata": {},
   "outputs": [],
   "source": [
    "# Let's drop the duplicates\n",
    "\n",
    "Airline_data.drop_duplicates(inplace=True)"
   ]
  },
  {
   "cell_type": "code",
   "execution_count": 40,
   "id": "c79f04a3",
   "metadata": {},
   "outputs": [
    {
     "data": {
      "text/plain": [
       "0"
      ]
     },
     "execution_count": 40,
     "metadata": {},
     "output_type": "execute_result"
    }
   ],
   "source": [
    "# Let's check if the duplicates were dropped\n",
    "\n",
    "Airline_data.duplicated().sum()"
   ]
  },
  {
   "cell_type": "code",
   "execution_count": 41,
   "id": "3e0fc5ae",
   "metadata": {},
   "outputs": [
    {
     "name": "stdout",
     "output_type": "stream",
     "text": [
      "Number of Rows 257586\n",
      "Number of Columns 21\n"
     ]
    }
   ],
   "source": [
    "# let's check the shape of the data after dropping the duplicates found in our data\n",
    "\n",
    "print(\"Number of Rows\", Airline_data.shape[0])\n",
    "print(\"Number of Columns\", Airline_data.shape[1])"
   ]
  },
  {
   "cell_type": "markdown",
   "id": "424e6b16",
   "metadata": {},
   "source": [
    "### After dropping the duplicates fount in the data and also dropping features that are not necessary, we are now left with 257,586 number of rows and 21 number of columns."
   ]
  },
  {
   "cell_type": "code",
   "execution_count": null,
   "id": "72c60155",
   "metadata": {},
   "outputs": [],
   "source": []
  },
  {
   "cell_type": "markdown",
   "id": "31d80c17",
   "metadata": {},
   "source": [
    "# Let's Get The Statistics of the Dataset"
   ]
  },
  {
   "cell_type": "code",
   "execution_count": 42,
   "id": "3d63fe03",
   "metadata": {},
   "outputs": [
    {
     "data": {
      "text/html": [
       "<div>\n",
       "<style scoped>\n",
       "    .dataframe tbody tr th:only-of-type {\n",
       "        vertical-align: middle;\n",
       "    }\n",
       "\n",
       "    .dataframe tbody tr th {\n",
       "        vertical-align: top;\n",
       "    }\n",
       "\n",
       "    .dataframe thead th {\n",
       "        text-align: right;\n",
       "    }\n",
       "</style>\n",
       "<table border=\"1\" class=\"dataframe\">\n",
       "  <thead>\n",
       "    <tr style=\"text-align: right;\">\n",
       "      <th></th>\n",
       "      <th>Loyalty Number</th>\n",
       "      <th>Salary</th>\n",
       "      <th>CLV</th>\n",
       "      <th>Enrollment Year</th>\n",
       "      <th>Cancellation Year</th>\n",
       "      <th>Year</th>\n",
       "      <th>Flights Booked</th>\n",
       "      <th>Flights with Companions</th>\n",
       "      <th>Total Flights</th>\n",
       "      <th>Distance</th>\n",
       "      <th>Points Accumulated</th>\n",
       "      <th>Points Redeemed</th>\n",
       "      <th>Dollar Cost Points Redeemed</th>\n",
       "    </tr>\n",
       "  </thead>\n",
       "  <tbody>\n",
       "    <tr>\n",
       "      <th>count</th>\n",
       "      <td>257586.000000</td>\n",
       "      <td>257586.000000</td>\n",
       "      <td>257586.000000</td>\n",
       "      <td>257586.000000</td>\n",
       "      <td>257586.000000</td>\n",
       "      <td>257586.000000</td>\n",
       "      <td>257586.000000</td>\n",
       "      <td>257586.000000</td>\n",
       "      <td>257586.000000</td>\n",
       "      <td>257586.000000</td>\n",
       "      <td>257586.000000</td>\n",
       "      <td>257586.000000</td>\n",
       "      <td>257586.000000</td>\n",
       "    </tr>\n",
       "    <tr>\n",
       "      <th>mean</th>\n",
       "      <td>549322.870886</td>\n",
       "      <td>73735.981214</td>\n",
       "      <td>5923.694355</td>\n",
       "      <td>2017.821524</td>\n",
       "      <td>2017.987988</td>\n",
       "      <td>2017.496716</td>\n",
       "      <td>6.544638</td>\n",
       "      <td>1.624723</td>\n",
       "      <td>8.169361</td>\n",
       "      <td>1935.240145</td>\n",
       "      <td>197.978124</td>\n",
       "      <td>48.338761</td>\n",
       "      <td>3.912379</td>\n",
       "    </tr>\n",
       "    <tr>\n",
       "      <th>std</th>\n",
       "      <td>258537.462705</td>\n",
       "      <td>7811.093209</td>\n",
       "      <td>1831.625935</td>\n",
       "      <td>0.844319</td>\n",
       "      <td>0.182006</td>\n",
       "      <td>0.499990</td>\n",
       "      <td>5.185969</td>\n",
       "      <td>2.414264</td>\n",
       "      <td>6.480972</td>\n",
       "      <td>1343.743574</td>\n",
       "      <td>137.405972</td>\n",
       "      <td>154.738014</td>\n",
       "      <td>12.515825</td>\n",
       "    </tr>\n",
       "    <tr>\n",
       "      <th>min</th>\n",
       "      <td>100018.000000</td>\n",
       "      <td>-58486.000000</td>\n",
       "      <td>1898.010000</td>\n",
       "      <td>2012.000000</td>\n",
       "      <td>2013.000000</td>\n",
       "      <td>2017.000000</td>\n",
       "      <td>0.000000</td>\n",
       "      <td>0.000000</td>\n",
       "      <td>0.000000</td>\n",
       "      <td>0.000000</td>\n",
       "      <td>0.000000</td>\n",
       "      <td>0.000000</td>\n",
       "      <td>0.000000</td>\n",
       "    </tr>\n",
       "    <tr>\n",
       "      <th>25%</th>\n",
       "      <td>326700.000000</td>\n",
       "      <td>73455.000000</td>\n",
       "      <td>5780.180000</td>\n",
       "      <td>2018.000000</td>\n",
       "      <td>2018.000000</td>\n",
       "      <td>2017.000000</td>\n",
       "      <td>2.000000</td>\n",
       "      <td>0.000000</td>\n",
       "      <td>2.000000</td>\n",
       "      <td>770.000000</td>\n",
       "      <td>79.000000</td>\n",
       "      <td>0.000000</td>\n",
       "      <td>0.000000</td>\n",
       "    </tr>\n",
       "    <tr>\n",
       "      <th>50%</th>\n",
       "      <td>549715.000000</td>\n",
       "      <td>73455.000000</td>\n",
       "      <td>5780.180000</td>\n",
       "      <td>2018.000000</td>\n",
       "      <td>2018.000000</td>\n",
       "      <td>2017.000000</td>\n",
       "      <td>6.000000</td>\n",
       "      <td>0.000000</td>\n",
       "      <td>8.000000</td>\n",
       "      <td>1892.000000</td>\n",
       "      <td>194.000000</td>\n",
       "      <td>0.000000</td>\n",
       "      <td>0.000000</td>\n",
       "    </tr>\n",
       "    <tr>\n",
       "      <th>75%</th>\n",
       "      <td>772019.000000</td>\n",
       "      <td>73455.000000</td>\n",
       "      <td>5780.180000</td>\n",
       "      <td>2018.000000</td>\n",
       "      <td>2018.000000</td>\n",
       "      <td>2018.000000</td>\n",
       "      <td>11.000000</td>\n",
       "      <td>3.000000</td>\n",
       "      <td>13.000000</td>\n",
       "      <td>2930.000000</td>\n",
       "      <td>300.000000</td>\n",
       "      <td>0.000000</td>\n",
       "      <td>0.000000</td>\n",
       "    </tr>\n",
       "    <tr>\n",
       "      <th>max</th>\n",
       "      <td>999986.000000</td>\n",
       "      <td>407228.000000</td>\n",
       "      <td>83325.380000</td>\n",
       "      <td>2018.000000</td>\n",
       "      <td>2018.000000</td>\n",
       "      <td>2018.000000</td>\n",
       "      <td>21.000000</td>\n",
       "      <td>11.000000</td>\n",
       "      <td>32.000000</td>\n",
       "      <td>6293.000000</td>\n",
       "      <td>676.000000</td>\n",
       "      <td>876.000000</td>\n",
       "      <td>71.000000</td>\n",
       "    </tr>\n",
       "  </tbody>\n",
       "</table>\n",
       "</div>"
      ],
      "text/plain": [
       "       Loyalty Number         Salary            CLV  Enrollment Year  \\\n",
       "count   257586.000000  257586.000000  257586.000000    257586.000000   \n",
       "mean    549322.870886   73735.981214    5923.694355      2017.821524   \n",
       "std     258537.462705    7811.093209    1831.625935         0.844319   \n",
       "min     100018.000000  -58486.000000    1898.010000      2012.000000   \n",
       "25%     326700.000000   73455.000000    5780.180000      2018.000000   \n",
       "50%     549715.000000   73455.000000    5780.180000      2018.000000   \n",
       "75%     772019.000000   73455.000000    5780.180000      2018.000000   \n",
       "max     999986.000000  407228.000000   83325.380000      2018.000000   \n",
       "\n",
       "       Cancellation Year           Year  Flights Booked  \\\n",
       "count      257586.000000  257586.000000   257586.000000   \n",
       "mean         2017.987988    2017.496716        6.544638   \n",
       "std             0.182006       0.499990        5.185969   \n",
       "min          2013.000000    2017.000000        0.000000   \n",
       "25%          2018.000000    2017.000000        2.000000   \n",
       "50%          2018.000000    2017.000000        6.000000   \n",
       "75%          2018.000000    2018.000000       11.000000   \n",
       "max          2018.000000    2018.000000       21.000000   \n",
       "\n",
       "       Flights with Companions  Total Flights       Distance  \\\n",
       "count            257586.000000  257586.000000  257586.000000   \n",
       "mean                  1.624723       8.169361    1935.240145   \n",
       "std                   2.414264       6.480972    1343.743574   \n",
       "min                   0.000000       0.000000       0.000000   \n",
       "25%                   0.000000       2.000000     770.000000   \n",
       "50%                   0.000000       8.000000    1892.000000   \n",
       "75%                   3.000000      13.000000    2930.000000   \n",
       "max                  11.000000      32.000000    6293.000000   \n",
       "\n",
       "       Points Accumulated  Points Redeemed  Dollar Cost Points Redeemed  \n",
       "count       257586.000000    257586.000000                257586.000000  \n",
       "mean           197.978124        48.338761                     3.912379  \n",
       "std            137.405972       154.738014                    12.515825  \n",
       "min              0.000000         0.000000                     0.000000  \n",
       "25%             79.000000         0.000000                     0.000000  \n",
       "50%            194.000000         0.000000                     0.000000  \n",
       "75%            300.000000         0.000000                     0.000000  \n",
       "max            676.000000       876.000000                    71.000000  "
      ]
     },
     "execution_count": 42,
     "metadata": {},
     "output_type": "execute_result"
    }
   ],
   "source": [
    "Airline_data.describe()"
   ]
  },
  {
   "cell_type": "markdown",
   "id": "78b1bd08",
   "metadata": {},
   "source": [
    "### The maximum salary for devoted airline members is 407,228 Canadian dollars, while the average salary is 73,735 Canadian dollars. A devoted airline passenger's CLV (customer lifetime value) ranges from 5923 Canadian dollars to 83,325 Canadian dollars at its maximum. Loyal customers of the airline typically book six flights, with a maximum of twenty-one. There are, on average, 8 total flights, with a maximum of 32.  The flight's maximum distance is 6293 miles, with an average of 1935 miles covered."
   ]
  },
  {
   "cell_type": "code",
   "execution_count": null,
   "id": "03447a80",
   "metadata": {},
   "outputs": [],
   "source": []
  },
  {
   "cell_type": "code",
   "execution_count": 43,
   "id": "00128e05",
   "metadata": {},
   "outputs": [
    {
     "data": {
      "text/html": [
       "<div>\n",
       "<style scoped>\n",
       "    .dataframe tbody tr th:only-of-type {\n",
       "        vertical-align: middle;\n",
       "    }\n",
       "\n",
       "    .dataframe tbody tr th {\n",
       "        vertical-align: top;\n",
       "    }\n",
       "\n",
       "    .dataframe thead th {\n",
       "        text-align: right;\n",
       "    }\n",
       "</style>\n",
       "<table border=\"1\" class=\"dataframe\">\n",
       "  <thead>\n",
       "    <tr style=\"text-align: right;\">\n",
       "      <th></th>\n",
       "      <th>Country</th>\n",
       "      <th>Province</th>\n",
       "      <th>City</th>\n",
       "      <th>Gender</th>\n",
       "      <th>Education</th>\n",
       "      <th>Marital Status</th>\n",
       "      <th>Loyalty Card</th>\n",
       "      <th>Enrollment Type</th>\n",
       "    </tr>\n",
       "  </thead>\n",
       "  <tbody>\n",
       "    <tr>\n",
       "      <th>count</th>\n",
       "      <td>257586</td>\n",
       "      <td>257586</td>\n",
       "      <td>257586</td>\n",
       "      <td>257586</td>\n",
       "      <td>257586</td>\n",
       "      <td>257586</td>\n",
       "      <td>257586</td>\n",
       "      <td>257586</td>\n",
       "    </tr>\n",
       "    <tr>\n",
       "      <th>unique</th>\n",
       "      <td>1</td>\n",
       "      <td>11</td>\n",
       "      <td>29</td>\n",
       "      <td>2</td>\n",
       "      <td>5</td>\n",
       "      <td>3</td>\n",
       "      <td>3</td>\n",
       "      <td>2</td>\n",
       "    </tr>\n",
       "    <tr>\n",
       "      <th>top</th>\n",
       "      <td>Canada</td>\n",
       "      <td>Ontario</td>\n",
       "      <td>Toronto</td>\n",
       "      <td>Female</td>\n",
       "      <td>Bachelor</td>\n",
       "      <td>Married</td>\n",
       "      <td>Star</td>\n",
       "      <td>Standard</td>\n",
       "    </tr>\n",
       "    <tr>\n",
       "      <th>freq</th>\n",
       "      <td>257586</td>\n",
       "      <td>246253</td>\n",
       "      <td>244200</td>\n",
       "      <td>249259</td>\n",
       "      <td>251324</td>\n",
       "      <td>250584</td>\n",
       "      <td>248486</td>\n",
       "      <td>256615</td>\n",
       "    </tr>\n",
       "  </tbody>\n",
       "</table>\n",
       "</div>"
      ],
      "text/plain": [
       "       Country Province     City  Gender Education Marital Status  \\\n",
       "count   257586   257586   257586  257586    257586         257586   \n",
       "unique       1       11       29       2         5              3   \n",
       "top     Canada  Ontario  Toronto  Female  Bachelor        Married   \n",
       "freq    257586   246253   244200  249259    251324         250584   \n",
       "\n",
       "       Loyalty Card Enrollment Type  \n",
       "count        257586          257586  \n",
       "unique            3               2  \n",
       "top            Star        Standard  \n",
       "freq         248486          256615  "
      ]
     },
     "execution_count": 43,
     "metadata": {},
     "output_type": "execute_result"
    }
   ],
   "source": [
    "Airline_data.describe(include='object')"
   ]
  },
  {
   "cell_type": "markdown",
   "id": "c1eed47f",
   "metadata": {},
   "source": [
    "### This indicates that Ontario is the most popular province in the data. With 29 unique values, Toronto is the most valuable city in the data. A bachelor's degree is the highest educational level attained by the airline's devoted members. Standard enrollment is the most prevalent enrollment type in the data. Three distinct values correspond to the marital status of the airline's most devoted members; the most common value is married status.\n"
   ]
  },
  {
   "cell_type": "code",
   "execution_count": null,
   "id": "e332f115",
   "metadata": {},
   "outputs": [],
   "source": []
  },
  {
   "cell_type": "markdown",
   "id": "8b5cafe8",
   "metadata": {},
   "source": [
    "# Exploratory Data Analysis"
   ]
  },
  {
   "cell_type": "code",
   "execution_count": null,
   "id": "2f308484",
   "metadata": {},
   "outputs": [],
   "source": []
  },
  {
   "cell_type": "code",
   "execution_count": 44,
   "id": "081ed1a2",
   "metadata": {},
   "outputs": [
    {
     "data": {
      "text/html": [
       "<div>\n",
       "<style scoped>\n",
       "    .dataframe tbody tr th:only-of-type {\n",
       "        vertical-align: middle;\n",
       "    }\n",
       "\n",
       "    .dataframe tbody tr th {\n",
       "        vertical-align: top;\n",
       "    }\n",
       "\n",
       "    .dataframe thead th {\n",
       "        text-align: right;\n",
       "    }\n",
       "</style>\n",
       "<table border=\"1\" class=\"dataframe\">\n",
       "  <thead>\n",
       "    <tr style=\"text-align: right;\">\n",
       "      <th></th>\n",
       "      <th>Loyalty Number</th>\n",
       "      <th>Country</th>\n",
       "      <th>Province</th>\n",
       "      <th>City</th>\n",
       "      <th>Gender</th>\n",
       "      <th>Education</th>\n",
       "      <th>Salary</th>\n",
       "      <th>Marital Status</th>\n",
       "      <th>Loyalty Card</th>\n",
       "      <th>CLV</th>\n",
       "      <th>Enrollment Type</th>\n",
       "      <th>Enrollment Year</th>\n",
       "      <th>Cancellation Year</th>\n",
       "      <th>Year</th>\n",
       "      <th>Flights Booked</th>\n",
       "      <th>Flights with Companions</th>\n",
       "      <th>Total Flights</th>\n",
       "      <th>Distance</th>\n",
       "      <th>Points Accumulated</th>\n",
       "      <th>Points Redeemed</th>\n",
       "      <th>Dollar Cost Points Redeemed</th>\n",
       "    </tr>\n",
       "  </thead>\n",
       "  <tbody>\n",
       "    <tr>\n",
       "      <th>0</th>\n",
       "      <td>480934</td>\n",
       "      <td>Canada</td>\n",
       "      <td>Ontario</td>\n",
       "      <td>Toronto</td>\n",
       "      <td>Female</td>\n",
       "      <td>Bachelor</td>\n",
       "      <td>83236.0</td>\n",
       "      <td>Married</td>\n",
       "      <td>Star</td>\n",
       "      <td>3839.14</td>\n",
       "      <td>Standard</td>\n",
       "      <td>2016</td>\n",
       "      <td>2018</td>\n",
       "      <td>2017</td>\n",
       "      <td>1</td>\n",
       "      <td>0</td>\n",
       "      <td>1</td>\n",
       "      <td>488.0</td>\n",
       "      <td>50</td>\n",
       "      <td>0</td>\n",
       "      <td>0</td>\n",
       "    </tr>\n",
       "  </tbody>\n",
       "</table>\n",
       "</div>"
      ],
      "text/plain": [
       "   Loyalty Number Country Province     City  Gender Education   Salary  \\\n",
       "0          480934  Canada  Ontario  Toronto  Female  Bachelor  83236.0   \n",
       "\n",
       "  Marital Status Loyalty Card      CLV Enrollment Type  Enrollment Year  \\\n",
       "0        Married         Star  3839.14        Standard             2016   \n",
       "\n",
       "   Cancellation Year  Year  Flights Booked  Flights with Companions  \\\n",
       "0               2018  2017               1                        0   \n",
       "\n",
       "   Total Flights  Distance  Points Accumulated  Points Redeemed  \\\n",
       "0              1     488.0                  50                0   \n",
       "\n",
       "   Dollar Cost Points Redeemed  \n",
       "0                            0  "
      ]
     },
     "execution_count": 44,
     "metadata": {},
     "output_type": "execute_result"
    }
   ],
   "source": [
    "# Let's check our data again\n",
    "\n",
    "Airline_data.head(1)"
   ]
  },
  {
   "cell_type": "code",
   "execution_count": 45,
   "id": "24ee2ca4",
   "metadata": {},
   "outputs": [
    {
     "data": {
      "text/plain": [
       "Female    249259\n",
       "Male        8327\n",
       "Name: Gender, dtype: int64"
      ]
     },
     "execution_count": 45,
     "metadata": {},
     "output_type": "execute_result"
    }
   ],
   "source": [
    "# let’s have a look at the distribution of the Gender column\n",
    "\n",
    "Airline_data[\"Gender\"].value_counts()"
   ]
  },
  {
   "cell_type": "code",
   "execution_count": 46,
   "id": "14100d17",
   "metadata": {},
   "outputs": [
    {
     "data": {
      "image/png": "[encoded data removed]",
      "text/plain": [
       "<Figure size 720x720 with 1 Axes>"
      ]
     },
     "metadata": {},
     "output_type": "display_data"
    }
   ],
   "source": [
    "# Let's visualize the distribution of the Gender column\n",
    "\n",
    "Airline_data[\"Gender\"].value_counts().plot(kind='pie', figsize=(10,10), autopct= '%1.1f%%', title = \"Gender Distribution\",\n",
    "                                           fontsize=15)\n",
    "plt.show()"
   ]
  },
  {
   "cell_type": "markdown",
   "id": "aa92d582",
   "metadata": {},
   "source": [
    "### According to the visual, you can see that there are 97% female loyal members in the data and 3.2% male loyal members."
   ]
  },
  {
   "cell_type": "code",
   "execution_count": null,
   "id": "7fba2057",
   "metadata": {},
   "outputs": [],
   "source": []
  },
  {
   "cell_type": "code",
   "execution_count": 47,
   "id": "4be2879f",
   "metadata": {},
   "outputs": [
    {
     "data": {
      "text/plain": [
       "Bachelor                251324\n",
       "College                   4238\n",
       "High School or Below       782\n",
       "Doctor                     734\n",
       "Master                     508\n",
       "Name: Education, dtype: int64"
      ]
     },
     "execution_count": 47,
     "metadata": {},
     "output_type": "execute_result"
    }
   ],
   "source": [
    "# let’s have a look at the distribution of the Education column\n",
    "\n",
    "Airline_data[\"Education\"].value_counts()"
   ]
  },
  {
   "cell_type": "code",
   "execution_count": 48,
   "id": "ae09c73d",
   "metadata": {},
   "outputs": [
    {
     "data": {
      "image/png": "[encoded data removed]",
      "text/plain": [
       "<Figure size 720x432 with 1 Axes>"
      ]
     },
     "metadata": {},
     "output_type": "display_data"
    }
   ],
   "source": [
    "# Let's visualize the distribution of the Education column\n",
    "\n",
    "plt.figure(figsize=(10,6))\n",
    "education_counts = Airline_data[\"Education\"].value_counts()\n",
    "education_counts.plot(kind='bar')\n",
    "\n",
    "plt.title(\"Education Distribution\", fontsize=15)\n",
    "plt.xlabel(\"Education Level\")\n",
    "plt.ylabel(\"Count\")\n",
    "plt.xticks(rotation=45)  \n",
    "\n",
    "# Annotate the count values on the bars\n",
    "for index, value in enumerate(education_counts):\n",
    "    plt.text(index, value, str(value), ha='center', va='bottom', size=12)\n",
    "\n",
    "plt.show()"
   ]
  },
  {
   "cell_type": "markdown",
   "id": "e02671ae",
   "metadata": {},
   "source": [
    "### Based on the visual, you can observe that, out of the 251,324 devoted airline members, the greatest educational attainment is a bachelor's degree."
   ]
  },
  {
   "cell_type": "code",
   "execution_count": null,
   "id": "deb65421",
   "metadata": {},
   "outputs": [],
   "source": []
  },
  {
   "cell_type": "code",
   "execution_count": 49,
   "id": "7f34c4b2",
   "metadata": {},
   "outputs": [
    {
     "data": {
      "text/plain": [
       "Married     250584\n",
       "Single        4484\n",
       "Divorced      2518\n",
       "Name: Marital Status, dtype: int64"
      ]
     },
     "execution_count": 49,
     "metadata": {},
     "output_type": "execute_result"
    }
   ],
   "source": [
    "# let’s have a look at the distribution of the Marital Status column\n",
    "\n",
    "Airline_data[\"Marital Status\"].value_counts()"
   ]
  },
  {
   "cell_type": "code",
   "execution_count": 50,
   "id": "27385c36",
   "metadata": {},
   "outputs": [
    {
     "data": {
      "image/png": "[encoded data removed]",
      "text/plain": [
       "<Figure size 720x432 with 1 Axes>"
      ]
     },
     "metadata": {},
     "output_type": "display_data"
    }
   ],
   "source": [
    "# Let's visualize the Marital Status column\n",
    "\n",
    "plt.figure(figsize=(10,6))\n",
    "marital_status_counts = Airline_data[\"Marital Status\"].value_counts()\n",
    "marital_status_counts.plot(kind='bar')\n",
    "\n",
    "plt.title(\"Marital Status Distribution\", fontsize=15)\n",
    "plt.xlabel(\"Marital Status\")\n",
    "plt.ylabel(\"Count\")\n",
    "plt.xticks(rotation=45)  \n",
    "\n",
    "# Annotate the count values on the bars\n",
    "for index, value in enumerate(marital_status_counts):\n",
    "    plt.text(index, value, str(value), ha='center', va='bottom', size=12)\n",
    "\n",
    "plt.show()"
   ]
  },
  {
   "cell_type": "markdown",
   "id": "83634ec2",
   "metadata": {},
   "source": [
    "### The visual shows that there are 2518 divorced loyal members, 4484 single loyal members, and 250,584 married loyal members."
   ]
  },
  {
   "cell_type": "code",
   "execution_count": null,
   "id": "8065277a",
   "metadata": {},
   "outputs": [],
   "source": []
  },
  {
   "cell_type": "code",
   "execution_count": 51,
   "id": "3cdaed70",
   "metadata": {},
   "outputs": [
    {
     "data": {
      "text/plain": [
       "Ontario             246253\n",
       "British Columbia      4409\n",
       "Quebec                3300\n",
       "Alberta                969\n",
       "Manitoba               658\n",
       "Name: Province, dtype: int64"
      ]
     },
     "execution_count": 51,
     "metadata": {},
     "output_type": "execute_result"
    }
   ],
   "source": [
    "# let’s have a look at the distribution of the Province column\n",
    "\n",
    "Airline_data['Province'].value_counts().head()"
   ]
  },
  {
   "cell_type": "code",
   "execution_count": 52,
   "id": "8623f3e9",
   "metadata": {},
   "outputs": [
    {
     "data": {
      "image/png": "[encoded data removed]",
      "text/plain": [
       "<Figure size 720x432 with 1 Axes>"
      ]
     },
     "metadata": {},
     "output_type": "display_data"
    }
   ],
   "source": [
    "# Get the top five provinces\n",
    "Province_counts = Airline_data['Province'].value_counts().head()\n",
    "\n",
    "# Create the plot\n",
    "plt.figure(figsize=(10, 6))\n",
    "ax = sns.countplot(data=Airline_data, x='Province', order=Province_counts.index)\n",
    "plt.title('The Top Five Provinces')\n",
    "plt.xlabel('Province')\n",
    "plt.ylabel('Count')\n",
    "plt.xticks(rotation=45, ha='right')  # Rotate x-labels for better readability if needed\n",
    "\n",
    "# Annotate the count values on the bars\n",
    "for bar in ax.patches:\n",
    "    ax.annotate(format(bar.get_height()), (bar.get_x() + bar.get_width() / 2, bar.get_height()),\n",
    "                ha='center', va='center', size=12, xytext=(0, 8), textcoords='offset points')\n",
    "\n",
    "plt.show()"
   ]
  },
  {
   "cell_type": "markdown",
   "id": "5362f1ec",
   "metadata": {},
   "source": [
    "### 246,253 devoted members are from Ontario, according to the snapshot. British Columbia accounts for 4409 devoted members. There are 3300 members from Quebec province. The Province of Alberta accounts for 969 members. The Province of Manitoba accounts for 658 devoted members."
   ]
  },
  {
   "cell_type": "code",
   "execution_count": null,
   "id": "37dfa5e9",
   "metadata": {},
   "outputs": [],
   "source": []
  },
  {
   "cell_type": "code",
   "execution_count": 53,
   "id": "1e0e5ad0",
   "metadata": {},
   "outputs": [
    {
     "data": {
      "text/plain": [
       "Toronto      244200\n",
       "Vancouver      2582\n",
       "Montreal       2059\n",
       "Winnipeg        658\n",
       "Whistler        582\n",
       "Name: City, dtype: int64"
      ]
     },
     "execution_count": 53,
     "metadata": {},
     "output_type": "execute_result"
    }
   ],
   "source": [
    "# let’s have a look at the distribution of the City column\n",
    "\n",
    "Airline_data['City'].value_counts().head()"
   ]
  },
  {
   "cell_type": "code",
   "execution_count": 54,
   "id": "7a197d47",
   "metadata": {},
   "outputs": [
    {
     "data": {
      "image/png": "[encoded data removed]",
      "text/plain": [
       "<Figure size 720x432 with 1 Axes>"
      ]
     },
     "metadata": {},
     "output_type": "display_data"
    }
   ],
   "source": [
    "# Let's visualize the distribution of the City column\n",
    "\n",
    "# Get the top five cities\n",
    "city_counts = Airline_data['City'].value_counts().head()\n",
    "\n",
    "# Create the plot\n",
    "plt.figure(figsize=(10, 6))\n",
    "ax = sns.countplot(data=Airline_data, x='City', order=city_counts.index)\n",
    "plt.title('The Top Five Cities')\n",
    "plt.xlabel('City')\n",
    "plt.ylabel('Count')\n",
    "plt.xticks(rotation=45, ha='right')  # Rotate x-labels for better readability if needed\n",
    "\n",
    "# Annotate the count values on the bars\n",
    "for bar in ax.patches:\n",
    "    ax.annotate(format(bar.get_height()), (bar.get_x() + bar.get_width() / 2, bar.get_height()),\n",
    "                ha='center', va='center', size=12, xytext=(0, 8), textcoords='offset points')\n",
    "\n",
    "plt.show()"
   ]
  },
  {
   "cell_type": "markdown",
   "id": "0b997697",
   "metadata": {},
   "source": [
    "### It is evident from the photo that 244,200 loyal members are from Toronto. There are 2582 devoted members from Vancouver. Montreal is home to 2059 loyal members. There are 658 loyal members from Winnipeg. There are 582 loyal members of Whistler."
   ]
  },
  {
   "cell_type": "code",
   "execution_count": null,
   "id": "7711d1aa",
   "metadata": {},
   "outputs": [],
   "source": []
  },
  {
   "cell_type": "code",
   "execution_count": 55,
   "id": "04a45cd5",
   "metadata": {},
   "outputs": [
    {
     "data": {
      "text/plain": [
       "Star      248486\n",
       "Nova        5671\n",
       "Aurora      3429\n",
       "Name: Loyalty Card, dtype: int64"
      ]
     },
     "execution_count": 55,
     "metadata": {},
     "output_type": "execute_result"
    }
   ],
   "source": [
    "# let’s have a look at the distribution of the Loyalty Card column\n",
    "\n",
    "Airline_data[\"Loyalty Card\"].value_counts()"
   ]
  },
  {
   "cell_type": "code",
   "execution_count": 56,
   "id": "10c9999f",
   "metadata": {},
   "outputs": [
    {
     "data": {
      "image/png": "[encoded data removed]",
      "text/plain": [
       "<Figure size 864x576 with 1 Axes>"
      ]
     },
     "metadata": {},
     "output_type": "display_data"
    }
   ],
   "source": [
    "# # Let's Visualize the Loyalty Card column\n",
    "\n",
    "plt.figure(figsize=(12, 8))\n",
    "ax = sns.countplot(x= \"Loyalty Card\", data=Airline_data)\n",
    "plt.xlabel(\"Loyalty Card\", fontsize=15)\n",
    "plt.ylabel('Count', fontsize=15)\n",
    "plt.title(\"Loyalty Card Distribution\", fontsize=20)\n",
    "\n",
    "# Annotate the count values on the bars\n",
    "for bar in ax.patches:\n",
    "    ax.annotate(format(bar.get_height()), (bar.get_x() + bar.get_width() / 2, bar.get_height()),\n",
    "                ha='center', va='center', size=12, xytext=(0, 8), textcoords='offset points')\n",
    "\n",
    "plt.show()"
   ]
  },
  {
   "cell_type": "markdown",
   "id": "d1da735d",
   "metadata": {},
   "source": [
    "### You can see that 248,486 members possess the Star loyalty card based on the snapshot.  There are 3429 Aurora loyalty card holders. There are 5671 Nova loyalty card holders."
   ]
  },
  {
   "cell_type": "code",
   "execution_count": null,
   "id": "7f4fa9c1",
   "metadata": {},
   "outputs": [],
   "source": []
  },
  {
   "cell_type": "code",
   "execution_count": 57,
   "id": "88246433",
   "metadata": {},
   "outputs": [
    {
     "data": {
      "text/plain": [
       "Standard          256615\n",
       "2018 Promotion       971\n",
       "Name: Enrollment Type, dtype: int64"
      ]
     },
     "execution_count": 57,
     "metadata": {},
     "output_type": "execute_result"
    }
   ],
   "source": [
    "# let’s have a look at the distribution of the Enrollment Type column\n",
    "\n",
    "Airline_data[\"Enrollment Type\"].value_counts()"
   ]
  },
  {
   "cell_type": "code",
   "execution_count": 58,
   "id": "8259b06b",
   "metadata": {},
   "outputs": [
    {
     "data": {
      "image/png": "[encoded data removed]",
      "text/plain": [
       "<Figure size 864x576 with 1 Axes>"
      ]
     },
     "metadata": {},
     "output_type": "display_data"
    }
   ],
   "source": [
    "# # Let's Visualize the Enrollment Type column\n",
    "\n",
    "plt.figure(figsize=(12, 8))\n",
    "ax = sns.countplot(x= \"Enrollment Type\", data=Airline_data)\n",
    "plt.xlabel(\"Enrollment Type\", fontsize=15)\n",
    "plt.ylabel('Count', fontsize=15)\n",
    "plt.title(\"Enrollment Type Distribution\", fontsize=20)\n",
    "\n",
    "# Annotate the count values on the bars\n",
    "for bar in ax.patches:\n",
    "    ax.annotate(format(bar.get_height()), (bar.get_x() + bar.get_width() / 2, bar.get_height()),\n",
    "                ha='center', va='center', size=12, xytext=(0, 8), textcoords='offset points')\n",
    "\n",
    "plt.show()"
   ]
  },
  {
   "cell_type": "markdown",
   "id": "b4de154a",
   "metadata": {},
   "source": [
    "### 256,615 members were enrolled using Standard, as you can see from the photo. Through the 2018 promotion, 971 members were signed up."
   ]
  },
  {
   "cell_type": "code",
   "execution_count": null,
   "id": "a8862f32",
   "metadata": {},
   "outputs": [],
   "source": []
  },
  {
   "cell_type": "code",
   "execution_count": 59,
   "id": "37002dd9",
   "metadata": {},
   "outputs": [
    {
     "data": {
      "text/html": [
       "<div>\n",
       "<style scoped>\n",
       "    .dataframe tbody tr th:only-of-type {\n",
       "        vertical-align: middle;\n",
       "    }\n",
       "\n",
       "    .dataframe tbody tr th {\n",
       "        vertical-align: top;\n",
       "    }\n",
       "\n",
       "    .dataframe thead th {\n",
       "        text-align: right;\n",
       "    }\n",
       "</style>\n",
       "<table border=\"1\" class=\"dataframe\">\n",
       "  <thead>\n",
       "    <tr style=\"text-align: right;\">\n",
       "      <th></th>\n",
       "      <th>Total Flights</th>\n",
       "      <th>Distance</th>\n",
       "    </tr>\n",
       "  </thead>\n",
       "  <tbody>\n",
       "    <tr>\n",
       "      <th>31</th>\n",
       "      <td>31</td>\n",
       "      <td>4272.409836</td>\n",
       "    </tr>\n",
       "    <tr>\n",
       "      <th>30</th>\n",
       "      <td>30</td>\n",
       "      <td>4123.800000</td>\n",
       "    </tr>\n",
       "    <tr>\n",
       "      <th>28</th>\n",
       "      <td>28</td>\n",
       "      <td>3986.431373</td>\n",
       "    </tr>\n",
       "    <tr>\n",
       "      <th>29</th>\n",
       "      <td>29</td>\n",
       "      <td>3971.102804</td>\n",
       "    </tr>\n",
       "    <tr>\n",
       "      <th>32</th>\n",
       "      <td>32</td>\n",
       "      <td>3939.555556</td>\n",
       "    </tr>\n",
       "    <tr>\n",
       "      <th>27</th>\n",
       "      <td>27</td>\n",
       "      <td>3864.964286</td>\n",
       "    </tr>\n",
       "    <tr>\n",
       "      <th>26</th>\n",
       "      <td>26</td>\n",
       "      <td>3752.246537</td>\n",
       "    </tr>\n",
       "    <tr>\n",
       "      <th>25</th>\n",
       "      <td>25</td>\n",
       "      <td>3662.638889</td>\n",
       "    </tr>\n",
       "    <tr>\n",
       "      <th>24</th>\n",
       "      <td>24</td>\n",
       "      <td>3561.409429</td>\n",
       "    </tr>\n",
       "    <tr>\n",
       "      <th>23</th>\n",
       "      <td>23</td>\n",
       "      <td>3491.972153</td>\n",
       "    </tr>\n",
       "    <tr>\n",
       "      <th>22</th>\n",
       "      <td>22</td>\n",
       "      <td>3411.432610</td>\n",
       "    </tr>\n",
       "    <tr>\n",
       "      <th>21</th>\n",
       "      <td>21</td>\n",
       "      <td>3313.582759</td>\n",
       "    </tr>\n",
       "    <tr>\n",
       "      <th>20</th>\n",
       "      <td>20</td>\n",
       "      <td>3220.737489</td>\n",
       "    </tr>\n",
       "    <tr>\n",
       "      <th>19</th>\n",
       "      <td>19</td>\n",
       "      <td>3132.303348</td>\n",
       "    </tr>\n",
       "    <tr>\n",
       "      <th>18</th>\n",
       "      <td>18</td>\n",
       "      <td>3045.986451</td>\n",
       "    </tr>\n",
       "    <tr>\n",
       "      <th>17</th>\n",
       "      <td>17</td>\n",
       "      <td>2945.616167</td>\n",
       "    </tr>\n",
       "    <tr>\n",
       "      <th>16</th>\n",
       "      <td>16</td>\n",
       "      <td>2841.176288</td>\n",
       "    </tr>\n",
       "    <tr>\n",
       "      <th>15</th>\n",
       "      <td>15</td>\n",
       "      <td>2730.073736</td>\n",
       "    </tr>\n",
       "    <tr>\n",
       "      <th>14</th>\n",
       "      <td>14</td>\n",
       "      <td>2640.707218</td>\n",
       "    </tr>\n",
       "    <tr>\n",
       "      <th>13</th>\n",
       "      <td>13</td>\n",
       "      <td>2522.693465</td>\n",
       "    </tr>\n",
       "    <tr>\n",
       "      <th>12</th>\n",
       "      <td>12</td>\n",
       "      <td>2456.892900</td>\n",
       "    </tr>\n",
       "    <tr>\n",
       "      <th>11</th>\n",
       "      <td>11</td>\n",
       "      <td>2353.078862</td>\n",
       "    </tr>\n",
       "    <tr>\n",
       "      <th>10</th>\n",
       "      <td>10</td>\n",
       "      <td>2305.490550</td>\n",
       "    </tr>\n",
       "    <tr>\n",
       "      <th>9</th>\n",
       "      <td>9</td>\n",
       "      <td>2201.030601</td>\n",
       "    </tr>\n",
       "    <tr>\n",
       "      <th>8</th>\n",
       "      <td>8</td>\n",
       "      <td>2158.371087</td>\n",
       "    </tr>\n",
       "    <tr>\n",
       "      <th>7</th>\n",
       "      <td>7</td>\n",
       "      <td>2105.724243</td>\n",
       "    </tr>\n",
       "    <tr>\n",
       "      <th>6</th>\n",
       "      <td>6</td>\n",
       "      <td>2017.455510</td>\n",
       "    </tr>\n",
       "    <tr>\n",
       "      <th>5</th>\n",
       "      <td>5</td>\n",
       "      <td>1981.435707</td>\n",
       "    </tr>\n",
       "    <tr>\n",
       "      <th>4</th>\n",
       "      <td>4</td>\n",
       "      <td>1930.586391</td>\n",
       "    </tr>\n",
       "    <tr>\n",
       "      <th>3</th>\n",
       "      <td>3</td>\n",
       "      <td>1857.233977</td>\n",
       "    </tr>\n",
       "    <tr>\n",
       "      <th>2</th>\n",
       "      <td>2</td>\n",
       "      <td>1854.122324</td>\n",
       "    </tr>\n",
       "    <tr>\n",
       "      <th>1</th>\n",
       "      <td>1</td>\n",
       "      <td>814.765267</td>\n",
       "    </tr>\n",
       "    <tr>\n",
       "      <th>0</th>\n",
       "      <td>0</td>\n",
       "      <td>0.000000</td>\n",
       "    </tr>\n",
       "  </tbody>\n",
       "</table>\n",
       "</div>"
      ],
      "text/plain": [
       "    Total Flights     Distance\n",
       "31             31  4272.409836\n",
       "30             30  4123.800000\n",
       "28             28  3986.431373\n",
       "29             29  3971.102804\n",
       "32             32  3939.555556\n",
       "27             27  3864.964286\n",
       "26             26  3752.246537\n",
       "25             25  3662.638889\n",
       "24             24  3561.409429\n",
       "23             23  3491.972153\n",
       "22             22  3411.432610\n",
       "21             21  3313.582759\n",
       "20             20  3220.737489\n",
       "19             19  3132.303348\n",
       "18             18  3045.986451\n",
       "17             17  2945.616167\n",
       "16             16  2841.176288\n",
       "15             15  2730.073736\n",
       "14             14  2640.707218\n",
       "13             13  2522.693465\n",
       "12             12  2456.892900\n",
       "11             11  2353.078862\n",
       "10             10  2305.490550\n",
       "9               9  2201.030601\n",
       "8               8  2158.371087\n",
       "7               7  2105.724243\n",
       "6               6  2017.455510\n",
       "5               5  1981.435707\n",
       "4               4  1930.586391\n",
       "3               3  1857.233977\n",
       "2               2  1854.122324\n",
       "1               1   814.765267\n",
       "0               0     0.000000"
      ]
     },
     "execution_count": 59,
     "metadata": {},
     "output_type": "execute_result"
    }
   ],
   "source": [
    "# Let check for the Average distance generated from the Total Flights\n",
    "\n",
    "distance_avg = Airline_data.groupby(\"Total Flights\")[\"Distance\"].mean().reset_index();\n",
    "distance_avg = distance_avg.sort_values(by=\"Distance\",ascending=False)\n",
    "distance_avg"
   ]
  },
  {
   "cell_type": "code",
   "execution_count": 60,
   "id": "4fd1c37a",
   "metadata": {},
   "outputs": [
    {
     "data": {
      "image/png": "[encoded data removed]",
      "text/plain": [
       "<Figure size 864x576 with 1 Axes>"
      ]
     },
     "metadata": {},
     "output_type": "display_data"
    }
   ],
   "source": [
    "# Let's visualize this data\n",
    "\n",
    "plt.figure(figsize=(12, 8))\n",
    "plt.bar(distance_avg[\"Total Flights\"], distance_avg[\"Distance\"])\n",
    "plt.xlabel(\"Distance\")\n",
    "plt.ylabel(\"Total Flights\")\n",
    "plt.title(\"Average Distance by Total Flights\", fontsize=20)\n",
    "plt.xticks(rotation=45, ha='right')\n",
    "plt.tight_layout()\n",
    "\n",
    "# Show the chart\n",
    "plt.show()"
   ]
  },
  {
   "cell_type": "markdown",
   "id": "4b28caab",
   "metadata": {},
   "source": [
    "### From the visual above, we can see the average distance of every total flights."
   ]
  },
  {
   "cell_type": "code",
   "execution_count": null,
   "id": "a97645cd",
   "metadata": {},
   "outputs": [],
   "source": []
  },
  {
   "cell_type": "code",
   "execution_count": 61,
   "id": "d2a762f1",
   "metadata": {},
   "outputs": [
    {
     "data": {
      "text/html": [
       "<div>\n",
       "<style scoped>\n",
       "    .dataframe tbody tr th:only-of-type {\n",
       "        vertical-align: middle;\n",
       "    }\n",
       "\n",
       "    .dataframe tbody tr th {\n",
       "        vertical-align: top;\n",
       "    }\n",
       "\n",
       "    .dataframe thead th {\n",
       "        text-align: right;\n",
       "    }\n",
       "</style>\n",
       "<table border=\"1\" class=\"dataframe\">\n",
       "  <thead>\n",
       "    <tr style=\"text-align: right;\">\n",
       "      <th></th>\n",
       "      <th>Flights Booked</th>\n",
       "      <th>Distance</th>\n",
       "    </tr>\n",
       "  </thead>\n",
       "  <tbody>\n",
       "    <tr>\n",
       "      <th>21</th>\n",
       "      <td>21</td>\n",
       "      <td>3785.795455</td>\n",
       "    </tr>\n",
       "    <tr>\n",
       "      <th>20</th>\n",
       "      <td>20</td>\n",
       "      <td>3672.851211</td>\n",
       "    </tr>\n",
       "    <tr>\n",
       "      <th>19</th>\n",
       "      <td>19</td>\n",
       "      <td>3626.560829</td>\n",
       "    </tr>\n",
       "    <tr>\n",
       "      <th>18</th>\n",
       "      <td>18</td>\n",
       "      <td>3442.797498</td>\n",
       "    </tr>\n",
       "    <tr>\n",
       "      <th>17</th>\n",
       "      <td>17</td>\n",
       "      <td>3314.179020</td>\n",
       "    </tr>\n",
       "    <tr>\n",
       "      <th>16</th>\n",
       "      <td>16</td>\n",
       "      <td>3214.018144</td>\n",
       "    </tr>\n",
       "    <tr>\n",
       "      <th>15</th>\n",
       "      <td>15</td>\n",
       "      <td>3054.231237</td>\n",
       "    </tr>\n",
       "    <tr>\n",
       "      <th>14</th>\n",
       "      <td>14</td>\n",
       "      <td>2922.242454</td>\n",
       "    </tr>\n",
       "    <tr>\n",
       "      <th>13</th>\n",
       "      <td>13</td>\n",
       "      <td>2730.137106</td>\n",
       "    </tr>\n",
       "    <tr>\n",
       "      <th>12</th>\n",
       "      <td>12</td>\n",
       "      <td>2658.355904</td>\n",
       "    </tr>\n",
       "    <tr>\n",
       "      <th>11</th>\n",
       "      <td>11</td>\n",
       "      <td>2529.534989</td>\n",
       "    </tr>\n",
       "    <tr>\n",
       "      <th>10</th>\n",
       "      <td>10</td>\n",
       "      <td>2452.670858</td>\n",
       "    </tr>\n",
       "    <tr>\n",
       "      <th>9</th>\n",
       "      <td>9</td>\n",
       "      <td>2390.424799</td>\n",
       "    </tr>\n",
       "    <tr>\n",
       "      <th>8</th>\n",
       "      <td>8</td>\n",
       "      <td>2308.514174</td>\n",
       "    </tr>\n",
       "    <tr>\n",
       "      <th>7</th>\n",
       "      <td>7</td>\n",
       "      <td>2265.098715</td>\n",
       "    </tr>\n",
       "    <tr>\n",
       "      <th>6</th>\n",
       "      <td>6</td>\n",
       "      <td>2168.651621</td>\n",
       "    </tr>\n",
       "    <tr>\n",
       "      <th>5</th>\n",
       "      <td>5</td>\n",
       "      <td>2112.802904</td>\n",
       "    </tr>\n",
       "    <tr>\n",
       "      <th>4</th>\n",
       "      <td>4</td>\n",
       "      <td>2021.539122</td>\n",
       "    </tr>\n",
       "    <tr>\n",
       "      <th>3</th>\n",
       "      <td>3</td>\n",
       "      <td>1919.218236</td>\n",
       "    </tr>\n",
       "    <tr>\n",
       "      <th>2</th>\n",
       "      <td>2</td>\n",
       "      <td>1905.899919</td>\n",
       "    </tr>\n",
       "    <tr>\n",
       "      <th>1</th>\n",
       "      <td>1</td>\n",
       "      <td>1044.294008</td>\n",
       "    </tr>\n",
       "    <tr>\n",
       "      <th>0</th>\n",
       "      <td>0</td>\n",
       "      <td>0.000000</td>\n",
       "    </tr>\n",
       "  </tbody>\n",
       "</table>\n",
       "</div>"
      ],
      "text/plain": [
       "    Flights Booked     Distance\n",
       "21              21  3785.795455\n",
       "20              20  3672.851211\n",
       "19              19  3626.560829\n",
       "18              18  3442.797498\n",
       "17              17  3314.179020\n",
       "16              16  3214.018144\n",
       "15              15  3054.231237\n",
       "14              14  2922.242454\n",
       "13              13  2730.137106\n",
       "12              12  2658.355904\n",
       "11              11  2529.534989\n",
       "10              10  2452.670858\n",
       "9                9  2390.424799\n",
       "8                8  2308.514174\n",
       "7                7  2265.098715\n",
       "6                6  2168.651621\n",
       "5                5  2112.802904\n",
       "4                4  2021.539122\n",
       "3                3  1919.218236\n",
       "2                2  1905.899919\n",
       "1                1  1044.294008\n",
       "0                0     0.000000"
      ]
     },
     "execution_count": 61,
     "metadata": {},
     "output_type": "execute_result"
    }
   ],
   "source": [
    "# Let check for the Average distance generated from the Total Flights\n",
    "\n",
    "distance_avg = Airline_data.groupby(\"Flights Booked\")[\"Distance\"].mean().reset_index();\n",
    "distance_avg = distance_avg.sort_values(by=\"Distance\",ascending=False)\n",
    "distance_avg"
   ]
  },
  {
   "cell_type": "code",
   "execution_count": 62,
   "id": "50c94772",
   "metadata": {},
   "outputs": [
    {
     "data": {
      "image/png": "[encoded data removed]",
      "text/plain": [
       "<Figure size 864x576 with 1 Axes>"
      ]
     },
     "metadata": {},
     "output_type": "display_data"
    }
   ],
   "source": [
    "# Let's visualize this data\n",
    "\n",
    "plt.figure(figsize=(12, 8))\n",
    "plt.bar(distance_avg[\"Flights Booked\"], distance_avg[\"Distance\"])\n",
    "plt.xlabel(\"Distance\")\n",
    "plt.ylabel(\"Flights Booked\")\n",
    "plt.title(\"Average Distance by Flights Booked\", fontsize=20)\n",
    "plt.xticks(rotation=45, ha='right')\n",
    "plt.tight_layout()\n",
    "\n",
    "# Show the chart\n",
    "plt.show()"
   ]
  },
  {
   "cell_type": "markdown",
   "id": "46d84b76",
   "metadata": {},
   "source": [
    "### From the visual above, we can see the average distance of every flights Booked."
   ]
  },
  {
   "cell_type": "code",
   "execution_count": null,
   "id": "c7d1c969",
   "metadata": {},
   "outputs": [],
   "source": []
  },
  {
   "cell_type": "code",
   "execution_count": 63,
   "id": "e996f6ae",
   "metadata": {},
   "outputs": [
    {
     "data": {
      "text/plain": [
       "2018    243859\n",
       "2017      2487\n",
       "2016      2456\n",
       "2013      2397\n",
       "2014      2370\n",
       "2015      2331\n",
       "2012      1686\n",
       "Name: Enrollment Year, dtype: int64"
      ]
     },
     "execution_count": 63,
     "metadata": {},
     "output_type": "execute_result"
    }
   ],
   "source": [
    "# let’s have a look at the distribution of the Enrollment Year column\n",
    "\n",
    "Airline_data[\"Enrollment Year\"].value_counts()"
   ]
  },
  {
   "cell_type": "code",
   "execution_count": 64,
   "id": "92e32715",
   "metadata": {},
   "outputs": [
    {
     "data": {
      "image/png": "[encoded data removed]",
      "text/plain": [
       "<Figure size 720x432 with 1 Axes>"
      ]
     },
     "metadata": {},
     "output_type": "display_data"
    }
   ],
   "source": [
    "# Let's visualize the distribution of the Enrollment Year column\n",
    "\n",
    "plt.figure(figsize=(10,6))\n",
    "education_counts = Airline_data[\"Enrollment Year\"].value_counts()\n",
    "education_counts.plot(kind='bar')\n",
    "\n",
    "plt.title(\"Enrollment Year Distribution\", fontsize=15)\n",
    "plt.xlabel(\"Enrollment Year\")\n",
    "plt.ylabel(\"Count\")\n",
    "plt.xticks(rotation=45)  \n",
    "\n",
    "# Annotate the count values on the bars\n",
    "for index, value in enumerate(education_counts):\n",
    "    plt.text(index, value, str(value), ha='center', va='bottom', size=12)\n",
    "\n",
    "plt.show()"
   ]
  },
  {
   "cell_type": "markdown",
   "id": "ff722d4f",
   "metadata": {},
   "source": [
    "### It is evident from the visual that 243,859 members signed up for membership in 2018. 2017 saw an enrollment of 2487 members. In 2016, there were 2456 enrolled members. Enrollment for 2013 totaled 2397 members. In 2014, there were 2370 members registered. In 2015, there were 2331 enrolled members. In 2012, there were 1686 members enrolled."
   ]
  },
  {
   "cell_type": "code",
   "execution_count": null,
   "id": "497d2f51",
   "metadata": {},
   "outputs": [],
   "source": []
  },
  {
   "cell_type": "code",
   "execution_count": 65,
   "id": "6c9d3cc7",
   "metadata": {},
   "outputs": [
    {
     "data": {
      "text/plain": [
       "2018    256164\n",
       "2017       506\n",
       "2016       427\n",
       "2015       265\n",
       "2014       181\n",
       "2013        43\n",
       "Name: Cancellation Year, dtype: int64"
      ]
     },
     "execution_count": 65,
     "metadata": {},
     "output_type": "execute_result"
    }
   ],
   "source": [
    "# let’s have a look at the distribution of the Enrollment Year column\n",
    "\n",
    "Airline_data[\"Cancellation Year\"].value_counts()"
   ]
  },
  {
   "cell_type": "code",
   "execution_count": 66,
   "id": "4bac9bf8",
   "metadata": {},
   "outputs": [
    {
     "data": {
      "image/png": "[encoded data removed]",
      "text/plain": [
       "<Figure size 720x432 with 1 Axes>"
      ]
     },
     "metadata": {},
     "output_type": "display_data"
    }
   ],
   "source": [
    "# Let's visualize the distribution of the Enrollment Year column\n",
    "\n",
    "plt.figure(figsize=(10,6))\n",
    "education_counts = Airline_data[\"Cancellation Year\"].value_counts()\n",
    "education_counts.plot(kind='bar')\n",
    "\n",
    "plt.title(\"Cancellation Year Distribution\", fontsize=15)\n",
    "plt.xlabel(\"Cancellation Year\")\n",
    "plt.ylabel(\"Count\")\n",
    "plt.xticks(rotation=45)  \n",
    "\n",
    "# Annotate the count values on the bars\n",
    "for index, value in enumerate(education_counts):\n",
    "    plt.text(index, value, str(value), ha='center', va='bottom', size=12)\n",
    "\n",
    "plt.show()"
   ]
  },
  {
   "cell_type": "markdown",
   "id": "04497976",
   "metadata": {},
   "source": [
    "### As you can see from the image, 256,164 members terminated their membership in 2018. 506 members canceled their membership in 2017. In 2016, 427 members terminated their membership. In 2015, 265 members terminated their membership. In 2014, 181 members canceled their membership. 43 members canceled their membership in 2012."
   ]
  },
  {
   "cell_type": "code",
   "execution_count": null,
   "id": "778945ac",
   "metadata": {},
   "outputs": [],
   "source": []
  },
  {
   "cell_type": "code",
   "execution_count": 67,
   "id": "96885e94",
   "metadata": {},
   "outputs": [
    {
     "data": {
      "text/plain": [
       "Female    249259\n",
       "Male        8327\n",
       "Name: Gender, dtype: int64"
      ]
     },
     "execution_count": 67,
     "metadata": {},
     "output_type": "execute_result"
    }
   ],
   "source": [
    "# let’s have a look at the distribution of the Gender column\n",
    "\n",
    "Airline_data[\"Gender\"].value_counts()"
   ]
  },
  {
   "cell_type": "code",
   "execution_count": 68,
   "id": "8f77738b",
   "metadata": {},
   "outputs": [
    {
     "data": {
      "image/png": "[encoded data removed]",
      "text/plain": [
       "<Figure size 720x432 with 1 Axes>"
      ]
     },
     "metadata": {},
     "output_type": "display_data"
    }
   ],
   "source": [
    "# Let's visualize the distribution of the Gender column by Loyalty Card\n",
    "\n",
    "plt.figure(figsize=(10, 6))\n",
    "plots = sns.countplot(x=\"Gender\", hue=\"Loyalty Card\", data=Airline_data)\n",
    "plt.title(\"Gender Distribution by Loyalty Card\", fontsize=15)\n",
    "plt.xlabel(\"Gender\", fontsize=20)\n",
    "plt.ylabel(\"Count\", fontsize=20)\n",
    "\n",
    "for bar in plots.patches:\n",
    "    plots.annotate(format(bar.get_height()), (bar.get_x() + bar.get_width() / 2, bar.get_height()),\n",
    "                   ha='center', va='center', size=12, xytext=(0, 8), textcoords='offset points')\n",
    "plt.show()"
   ]
  },
  {
   "cell_type": "markdown",
   "id": "8ec06319",
   "metadata": {},
   "source": [
    "### The visual indicates that 2888 female members have the Nova loyalty card, 1711 have the Aurora loyalty card, and 244,660 female members have the Star loyalty card. The Star loyalty card is held by 3826 male members, the Aurora loyalty card by 1718, and the Nova loyalty card by 2783."
   ]
  },
  {
   "cell_type": "code",
   "execution_count": null,
   "id": "d9241fe2",
   "metadata": {},
   "outputs": [],
   "source": []
  },
  {
   "cell_type": "code",
   "execution_count": 69,
   "id": "ca727685",
   "metadata": {},
   "outputs": [
    {
     "data": {
      "text/plain": [
       "Married     250584\n",
       "Single        4484\n",
       "Divorced      2518\n",
       "Name: Marital Status, dtype: int64"
      ]
     },
     "execution_count": 69,
     "metadata": {},
     "output_type": "execute_result"
    }
   ],
   "source": [
    "# let’s have a look at the distribution of the Marital Status column\n",
    "\n",
    "Airline_data[\"Marital Status\"].value_counts()"
   ]
  },
  {
   "cell_type": "code",
   "execution_count": 70,
   "id": "08fc109c",
   "metadata": {},
   "outputs": [
    {
     "data": {
      "image/png": "[encoded data removed]",
      "text/plain": [
       "<Figure size 720x432 with 1 Axes>"
      ]
     },
     "metadata": {},
     "output_type": "display_data"
    }
   ],
   "source": [
    "# Let's visualize the distribution of the Marital Status column by Loyalty Card\n",
    "\n",
    "plt.figure(figsize=(10, 6))\n",
    "plots = sns.countplot(x=\"Marital Status\", hue=\"Loyalty Card\", data=Airline_data)\n",
    "plt.title(\"Marital Status Distribution by Loyalty Card\", fontsize=15)\n",
    "plt.xlabel(\"Marital Status\", fontsize=20)\n",
    "plt.ylabel(\"Count\", fontsize=20)\n",
    "\n",
    "for bar in plots.patches:\n",
    "    plots.annotate(format(bar.get_height()), (bar.get_x() + bar.get_width() / 2, bar.get_height()),\n",
    "                   ha='center', va='center', size=12, xytext=(0, 8), textcoords='offset points')\n",
    "plt.show()"
   ]
  },
  {
   "cell_type": "markdown",
   "id": "023b8bc5",
   "metadata": {},
   "source": [
    "### The image shows that 2080 married members have the Aurora loyalty card, 245,113 married members have the Star loyalty card, and 3391 married members have the Nova loyalty card. Members who are divorced possess a Star loyalty card number 1165, an Aurora loyalty card number 504, and a Nova loyalty card number 849. The Star loyalty card is held by 2208 single members, the Aurora loyalty card by 845, and the Nova loyalty card by 1431."
   ]
  },
  {
   "cell_type": "code",
   "execution_count": null,
   "id": "01d9eca7",
   "metadata": {},
   "outputs": [],
   "source": []
  },
  {
   "cell_type": "code",
   "execution_count": 71,
   "id": "321465ab",
   "metadata": {},
   "outputs": [
    {
     "data": {
      "text/plain": [
       "Female    249259\n",
       "Male        8327\n",
       "Name: Gender, dtype: int64"
      ]
     },
     "execution_count": 71,
     "metadata": {},
     "output_type": "execute_result"
    }
   ],
   "source": [
    "# let’s have a look at the distribution of the Gender column\n",
    "\n",
    "Airline_data[\"Gender\"].value_counts()"
   ]
  },
  {
   "cell_type": "code",
   "execution_count": 72,
   "id": "12effe8b",
   "metadata": {},
   "outputs": [
    {
     "data": {
      "image/png": "[encoded data removed]",
      "text/plain": [
       "<Figure size 720x432 with 1 Axes>"
      ]
     },
     "metadata": {},
     "output_type": "display_data"
    }
   ],
   "source": [
    "# Let's visualize the distribution of the Gender column by Enrollment Year\n",
    "\n",
    "plt.figure(figsize=(10, 6))\n",
    "plots = sns.countplot(x=\"Gender\", hue=\"Enrollment Year\", data=Airline_data)\n",
    "plt.title(\"Gender Distribution by Enrollment Year\", fontsize=15)\n",
    "plt.xlabel(\"Gender\", fontsize=20)\n",
    "plt.ylabel(\"Count\", fontsize=20)\n",
    "\n",
    "for bar in plots.patches:\n",
    "    plots.annotate(format(bar.get_height()), (bar.get_x() + bar.get_width() / 2, bar.get_height()),\n",
    "                   ha='center', va='center', size=12, xytext=(0, 8), textcoords='offset points')\n",
    "plt.show()"
   ]
  },
  {
   "cell_type": "markdown",
   "id": "4a3a25fe",
   "metadata": {},
   "source": [
    "### From the visual, you can see that 242,365 female members were enrolled most in 2018."
   ]
  },
  {
   "cell_type": "code",
   "execution_count": null,
   "id": "c9090a7b",
   "metadata": {},
   "outputs": [],
   "source": []
  },
  {
   "cell_type": "code",
   "execution_count": 73,
   "id": "3815404b",
   "metadata": {},
   "outputs": [
    {
     "data": {
      "image/png": "[encoded data removed]",
      "text/plain": [
       "<Figure size 720x432 with 1 Axes>"
      ]
     },
     "metadata": {},
     "output_type": "display_data"
    }
   ],
   "source": [
    "# Let's visualize the distribution of the Gender column by Cancellation Year\n",
    "\n",
    "plt.figure(figsize=(10, 6))\n",
    "plots = sns.countplot(x=\"Gender\", hue=\"Cancellation Year\", data=Airline_data)\n",
    "plt.title(\"Gender Distribution by Cancellation Year\", fontsize=15)\n",
    "plt.xlabel(\"Gender\", fontsize=20)\n",
    "plt.ylabel(\"Count\", fontsize=20)\n",
    "\n",
    "for bar in plots.patches:\n",
    "    plots.annotate(format(bar.get_height()), (bar.get_x() + bar.get_width() / 2, bar.get_height()),\n",
    "                   ha='center', va='center', size=12, xytext=(0, 8), textcoords='offset points')\n",
    "plt.show()"
   ]
  },
  {
   "cell_type": "markdown",
   "id": "431fde4f",
   "metadata": {},
   "source": [
    "### The graphic indicates that 248,517 female members canceled their accounts in 2018, which is the highest number. Additionally, the majority of male members (7647) canceled in 2018."
   ]
  },
  {
   "cell_type": "code",
   "execution_count": null,
   "id": "964905e5",
   "metadata": {},
   "outputs": [],
   "source": []
  },
  {
   "cell_type": "code",
   "execution_count": 74,
   "id": "6aa573a5",
   "metadata": {},
   "outputs": [
    {
     "data": {
      "text/html": [
       "<div>\n",
       "<style scoped>\n",
       "    .dataframe tbody tr th:only-of-type {\n",
       "        vertical-align: middle;\n",
       "    }\n",
       "\n",
       "    .dataframe tbody tr th {\n",
       "        vertical-align: top;\n",
       "    }\n",
       "\n",
       "    .dataframe thead th {\n",
       "        text-align: right;\n",
       "    }\n",
       "</style>\n",
       "<table border=\"1\" class=\"dataframe\">\n",
       "  <thead>\n",
       "    <tr style=\"text-align: right;\">\n",
       "      <th></th>\n",
       "      <th>Loyalty Number</th>\n",
       "      <th>Country</th>\n",
       "      <th>Province</th>\n",
       "      <th>City</th>\n",
       "      <th>Gender</th>\n",
       "      <th>Education</th>\n",
       "      <th>Salary</th>\n",
       "      <th>Marital Status</th>\n",
       "      <th>Loyalty Card</th>\n",
       "      <th>CLV</th>\n",
       "      <th>Enrollment Type</th>\n",
       "      <th>Enrollment Year</th>\n",
       "      <th>Cancellation Year</th>\n",
       "      <th>Year</th>\n",
       "      <th>Flights Booked</th>\n",
       "      <th>Flights with Companions</th>\n",
       "      <th>Total Flights</th>\n",
       "      <th>Distance</th>\n",
       "      <th>Points Accumulated</th>\n",
       "      <th>Points Redeemed</th>\n",
       "      <th>Dollar Cost Points Redeemed</th>\n",
       "    </tr>\n",
       "  </thead>\n",
       "  <tbody>\n",
       "    <tr>\n",
       "      <th>0</th>\n",
       "      <td>480934</td>\n",
       "      <td>Canada</td>\n",
       "      <td>Ontario</td>\n",
       "      <td>Toronto</td>\n",
       "      <td>Female</td>\n",
       "      <td>Bachelor</td>\n",
       "      <td>83236.0</td>\n",
       "      <td>Married</td>\n",
       "      <td>Star</td>\n",
       "      <td>3839.14</td>\n",
       "      <td>Standard</td>\n",
       "      <td>2016</td>\n",
       "      <td>2018</td>\n",
       "      <td>2017</td>\n",
       "      <td>1</td>\n",
       "      <td>0</td>\n",
       "      <td>1</td>\n",
       "      <td>488.0</td>\n",
       "      <td>50</td>\n",
       "      <td>0</td>\n",
       "      <td>0</td>\n",
       "    </tr>\n",
       "  </tbody>\n",
       "</table>\n",
       "</div>"
      ],
      "text/plain": [
       "   Loyalty Number Country Province     City  Gender Education   Salary  \\\n",
       "0          480934  Canada  Ontario  Toronto  Female  Bachelor  83236.0   \n",
       "\n",
       "  Marital Status Loyalty Card      CLV Enrollment Type  Enrollment Year  \\\n",
       "0        Married         Star  3839.14        Standard             2016   \n",
       "\n",
       "   Cancellation Year  Year  Flights Booked  Flights with Companions  \\\n",
       "0               2018  2017               1                        0   \n",
       "\n",
       "   Total Flights  Distance  Points Accumulated  Points Redeemed  \\\n",
       "0              1     488.0                  50                0   \n",
       "\n",
       "   Dollar Cost Points Redeemed  \n",
       "0                            0  "
      ]
     },
     "execution_count": 74,
     "metadata": {},
     "output_type": "execute_result"
    }
   ],
   "source": [
    "# Let's drop more features that won't needed for our prediction\n",
    "\n",
    "Airline_data.head(1)"
   ]
  },
  {
   "cell_type": "code",
   "execution_count": 75,
   "id": "4d55ee21",
   "metadata": {},
   "outputs": [],
   "source": [
    "Airline_data = Airline_data.drop(\"Country\", axis=1)"
   ]
  },
  {
   "cell_type": "code",
   "execution_count": 76,
   "id": "211f3288",
   "metadata": {},
   "outputs": [],
   "source": [
    "Airline_data = Airline_data.drop(\"Province\", axis=1)"
   ]
  },
  {
   "cell_type": "code",
   "execution_count": 77,
   "id": "7f191320",
   "metadata": {},
   "outputs": [],
   "source": [
    "Airline_data = Airline_data.drop(\"City\", axis=1)"
   ]
  },
  {
   "cell_type": "code",
   "execution_count": 78,
   "id": "8a1f2ff6",
   "metadata": {},
   "outputs": [],
   "source": [
    "Airline_data = Airline_data.drop(\"Loyalty Number\", axis=1)"
   ]
  },
  {
   "cell_type": "code",
   "execution_count": 79,
   "id": "e3abefd8",
   "metadata": {},
   "outputs": [],
   "source": [
    "Airline_data = Airline_data.drop(\"Year\", axis=1)"
   ]
  },
  {
   "cell_type": "code",
   "execution_count": 80,
   "id": "faef41c5",
   "metadata": {},
   "outputs": [
    {
     "data": {
      "text/html": [
       "<div>\n",
       "<style scoped>\n",
       "    .dataframe tbody tr th:only-of-type {\n",
       "        vertical-align: middle;\n",
       "    }\n",
       "\n",
       "    .dataframe tbody tr th {\n",
       "        vertical-align: top;\n",
       "    }\n",
       "\n",
       "    .dataframe thead th {\n",
       "        text-align: right;\n",
       "    }\n",
       "</style>\n",
       "<table border=\"1\" class=\"dataframe\">\n",
       "  <thead>\n",
       "    <tr style=\"text-align: right;\">\n",
       "      <th></th>\n",
       "      <th>Gender</th>\n",
       "      <th>Education</th>\n",
       "      <th>Salary</th>\n",
       "      <th>Marital Status</th>\n",
       "      <th>Loyalty Card</th>\n",
       "      <th>CLV</th>\n",
       "      <th>Enrollment Type</th>\n",
       "      <th>Enrollment Year</th>\n",
       "      <th>Cancellation Year</th>\n",
       "      <th>Flights Booked</th>\n",
       "      <th>Flights with Companions</th>\n",
       "      <th>Total Flights</th>\n",
       "      <th>Distance</th>\n",
       "      <th>Points Accumulated</th>\n",
       "      <th>Points Redeemed</th>\n",
       "      <th>Dollar Cost Points Redeemed</th>\n",
       "    </tr>\n",
       "  </thead>\n",
       "  <tbody>\n",
       "    <tr>\n",
       "      <th>0</th>\n",
       "      <td>Female</td>\n",
       "      <td>Bachelor</td>\n",
       "      <td>83236.0</td>\n",
       "      <td>Married</td>\n",
       "      <td>Star</td>\n",
       "      <td>3839.14</td>\n",
       "      <td>Standard</td>\n",
       "      <td>2016</td>\n",
       "      <td>2018</td>\n",
       "      <td>1</td>\n",
       "      <td>0</td>\n",
       "      <td>1</td>\n",
       "      <td>488.0</td>\n",
       "      <td>50</td>\n",
       "      <td>0</td>\n",
       "      <td>0</td>\n",
       "    </tr>\n",
       "  </tbody>\n",
       "</table>\n",
       "</div>"
      ],
      "text/plain": [
       "   Gender Education   Salary Marital Status Loyalty Card      CLV  \\\n",
       "0  Female  Bachelor  83236.0        Married         Star  3839.14   \n",
       "\n",
       "  Enrollment Type  Enrollment Year  Cancellation Year  Flights Booked  \\\n",
       "0        Standard             2016               2018               1   \n",
       "\n",
       "   Flights with Companions  Total Flights  Distance  Points Accumulated  \\\n",
       "0                        0              1     488.0                  50   \n",
       "\n",
       "   Points Redeemed  Dollar Cost Points Redeemed  \n",
       "0                0                            0  "
      ]
     },
     "execution_count": 80,
     "metadata": {},
     "output_type": "execute_result"
    }
   ],
   "source": [
    "# let's check if the features were dropped successfully.\n",
    "\n",
    "Airline_data.head(1)"
   ]
  },
  {
   "cell_type": "code",
   "execution_count": null,
   "id": "728b6abb",
   "metadata": {},
   "outputs": [],
   "source": []
  },
  {
   "cell_type": "markdown",
   "id": "520ea4dd",
   "metadata": {},
   "source": [
    "# Label Encoding. The categorical values will be encoded into numerical values."
   ]
  },
  {
   "cell_type": "code",
   "execution_count": null,
   "id": "f2a974f7",
   "metadata": {},
   "outputs": [],
   "source": []
  },
  {
   "cell_type": "code",
   "execution_count": 81,
   "id": "48d95b2f",
   "metadata": {},
   "outputs": [
    {
     "data": {
      "text/html": [
       "<div>\n",
       "<style scoped>\n",
       "    .dataframe tbody tr th:only-of-type {\n",
       "        vertical-align: middle;\n",
       "    }\n",
       "\n",
       "    .dataframe tbody tr th {\n",
       "        vertical-align: top;\n",
       "    }\n",
       "\n",
       "    .dataframe thead th {\n",
       "        text-align: right;\n",
       "    }\n",
       "</style>\n",
       "<table border=\"1\" class=\"dataframe\">\n",
       "  <thead>\n",
       "    <tr style=\"text-align: right;\">\n",
       "      <th></th>\n",
       "      <th>Gender</th>\n",
       "      <th>Education</th>\n",
       "      <th>Salary</th>\n",
       "      <th>Marital Status</th>\n",
       "      <th>Loyalty Card</th>\n",
       "      <th>CLV</th>\n",
       "      <th>Enrollment Type</th>\n",
       "      <th>Enrollment Year</th>\n",
       "      <th>Cancellation Year</th>\n",
       "      <th>Flights Booked</th>\n",
       "      <th>Flights with Companions</th>\n",
       "      <th>Total Flights</th>\n",
       "      <th>Distance</th>\n",
       "      <th>Points Accumulated</th>\n",
       "      <th>Points Redeemed</th>\n",
       "      <th>Dollar Cost Points Redeemed</th>\n",
       "    </tr>\n",
       "  </thead>\n",
       "  <tbody>\n",
       "    <tr>\n",
       "      <th>0</th>\n",
       "      <td>Female</td>\n",
       "      <td>Bachelor</td>\n",
       "      <td>83236.0</td>\n",
       "      <td>Married</td>\n",
       "      <td>Star</td>\n",
       "      <td>3839.14</td>\n",
       "      <td>Standard</td>\n",
       "      <td>2016</td>\n",
       "      <td>2018</td>\n",
       "      <td>1</td>\n",
       "      <td>0</td>\n",
       "      <td>1</td>\n",
       "      <td>488.0</td>\n",
       "      <td>50</td>\n",
       "      <td>0</td>\n",
       "      <td>0</td>\n",
       "    </tr>\n",
       "  </tbody>\n",
       "</table>\n",
       "</div>"
      ],
      "text/plain": [
       "   Gender Education   Salary Marital Status Loyalty Card      CLV  \\\n",
       "0  Female  Bachelor  83236.0        Married         Star  3839.14   \n",
       "\n",
       "  Enrollment Type  Enrollment Year  Cancellation Year  Flights Booked  \\\n",
       "0        Standard             2016               2018               1   \n",
       "\n",
       "   Flights with Companions  Total Flights  Distance  Points Accumulated  \\\n",
       "0                        0              1     488.0                  50   \n",
       "\n",
       "   Points Redeemed  Dollar Cost Points Redeemed  \n",
       "0                0                            0  "
      ]
     },
     "execution_count": 81,
     "metadata": {},
     "output_type": "execute_result"
    }
   ],
   "source": [
    "# Let's view the data\n",
    "Airline_data.head(1)"
   ]
  },
  {
   "cell_type": "code",
   "execution_count": 82,
   "id": "2cecf237",
   "metadata": {},
   "outputs": [],
   "source": [
    "# Let's encode the categorical values to numerical values.\n",
    "\n",
    "Airline_data.replace({\"Gender\": {\"Female\" :0, \"Male\" :1}}, inplace = True)\n",
    "Airline_data.replace({\"Education\": {\"Bachelor\" :1, \"College\" :2, \"High School or Below\" :3, \"Doctor\" :4,\n",
    "                                   \"Master\" :5}}, inplace = True)\n",
    "Airline_data.replace({\"Marital Status\": {\"Married\" :0, \"Single\" :1, \"Divorced\" :2}}, inplace = True)\n",
    "Airline_data.replace({\"Loyalty Card\": {\"Star\" :1, \"Nova\" :2, \"Aurora\" :3}}, inplace = True)\n",
    "Airline_data.replace({\"Enrollment Type\": {\"Standard\" :0, \"2018 Promotion\" :1}}, inplace = True)"
   ]
  },
  {
   "cell_type": "code",
   "execution_count": 83,
   "id": "21d6219e",
   "metadata": {},
   "outputs": [
    {
     "data": {
      "text/html": [
       "<div>\n",
       "<style scoped>\n",
       "    .dataframe tbody tr th:only-of-type {\n",
       "        vertical-align: middle;\n",
       "    }\n",
       "\n",
       "    .dataframe tbody tr th {\n",
       "        vertical-align: top;\n",
       "    }\n",
       "\n",
       "    .dataframe thead th {\n",
       "        text-align: right;\n",
       "    }\n",
       "</style>\n",
       "<table border=\"1\" class=\"dataframe\">\n",
       "  <thead>\n",
       "    <tr style=\"text-align: right;\">\n",
       "      <th></th>\n",
       "      <th>Gender</th>\n",
       "      <th>Education</th>\n",
       "      <th>Salary</th>\n",
       "      <th>Marital Status</th>\n",
       "      <th>Loyalty Card</th>\n",
       "      <th>CLV</th>\n",
       "      <th>Enrollment Type</th>\n",
       "      <th>Enrollment Year</th>\n",
       "      <th>Cancellation Year</th>\n",
       "      <th>Flights Booked</th>\n",
       "      <th>Flights with Companions</th>\n",
       "      <th>Total Flights</th>\n",
       "      <th>Distance</th>\n",
       "      <th>Points Accumulated</th>\n",
       "      <th>Points Redeemed</th>\n",
       "      <th>Dollar Cost Points Redeemed</th>\n",
       "    </tr>\n",
       "  </thead>\n",
       "  <tbody>\n",
       "    <tr>\n",
       "      <th>0</th>\n",
       "      <td>0</td>\n",
       "      <td>1</td>\n",
       "      <td>83236.0</td>\n",
       "      <td>0</td>\n",
       "      <td>1</td>\n",
       "      <td>3839.14</td>\n",
       "      <td>0</td>\n",
       "      <td>2016</td>\n",
       "      <td>2018</td>\n",
       "      <td>1</td>\n",
       "      <td>0</td>\n",
       "      <td>1</td>\n",
       "      <td>488.0</td>\n",
       "      <td>50</td>\n",
       "      <td>0</td>\n",
       "      <td>0</td>\n",
       "    </tr>\n",
       "    <tr>\n",
       "      <th>1</th>\n",
       "      <td>1</td>\n",
       "      <td>2</td>\n",
       "      <td>73455.0</td>\n",
       "      <td>2</td>\n",
       "      <td>1</td>\n",
       "      <td>3839.61</td>\n",
       "      <td>0</td>\n",
       "      <td>2016</td>\n",
       "      <td>2018</td>\n",
       "      <td>1</td>\n",
       "      <td>0</td>\n",
       "      <td>1</td>\n",
       "      <td>488.0</td>\n",
       "      <td>50</td>\n",
       "      <td>0</td>\n",
       "      <td>0</td>\n",
       "    </tr>\n",
       "    <tr>\n",
       "      <th>2</th>\n",
       "      <td>1</td>\n",
       "      <td>2</td>\n",
       "      <td>73455.0</td>\n",
       "      <td>1</td>\n",
       "      <td>1</td>\n",
       "      <td>3839.75</td>\n",
       "      <td>0</td>\n",
       "      <td>2014</td>\n",
       "      <td>2018</td>\n",
       "      <td>1</td>\n",
       "      <td>0</td>\n",
       "      <td>1</td>\n",
       "      <td>488.0</td>\n",
       "      <td>50</td>\n",
       "      <td>0</td>\n",
       "      <td>0</td>\n",
       "    </tr>\n",
       "    <tr>\n",
       "      <th>3</th>\n",
       "      <td>1</td>\n",
       "      <td>2</td>\n",
       "      <td>73455.0</td>\n",
       "      <td>1</td>\n",
       "      <td>1</td>\n",
       "      <td>3839.75</td>\n",
       "      <td>0</td>\n",
       "      <td>2013</td>\n",
       "      <td>2018</td>\n",
       "      <td>1</td>\n",
       "      <td>0</td>\n",
       "      <td>1</td>\n",
       "      <td>488.0</td>\n",
       "      <td>50</td>\n",
       "      <td>0</td>\n",
       "      <td>0</td>\n",
       "    </tr>\n",
       "    <tr>\n",
       "      <th>4</th>\n",
       "      <td>1</td>\n",
       "      <td>1</td>\n",
       "      <td>103495.0</td>\n",
       "      <td>0</td>\n",
       "      <td>1</td>\n",
       "      <td>3842.79</td>\n",
       "      <td>0</td>\n",
       "      <td>2014</td>\n",
       "      <td>2018</td>\n",
       "      <td>1</td>\n",
       "      <td>0</td>\n",
       "      <td>1</td>\n",
       "      <td>488.0</td>\n",
       "      <td>50</td>\n",
       "      <td>0</td>\n",
       "      <td>0</td>\n",
       "    </tr>\n",
       "  </tbody>\n",
       "</table>\n",
       "</div>"
      ],
      "text/plain": [
       "   Gender  Education    Salary  Marital Status  Loyalty Card      CLV  \\\n",
       "0       0          1   83236.0               0             1  3839.14   \n",
       "1       1          2   73455.0               2             1  3839.61   \n",
       "2       1          2   73455.0               1             1  3839.75   \n",
       "3       1          2   73455.0               1             1  3839.75   \n",
       "4       1          1  103495.0               0             1  3842.79   \n",
       "\n",
       "   Enrollment Type  Enrollment Year  Cancellation Year  Flights Booked  \\\n",
       "0                0             2016               2018               1   \n",
       "1                0             2016               2018               1   \n",
       "2                0             2014               2018               1   \n",
       "3                0             2013               2018               1   \n",
       "4                0             2014               2018               1   \n",
       "\n",
       "   Flights with Companions  Total Flights  Distance  Points Accumulated  \\\n",
       "0                        0              1     488.0                  50   \n",
       "1                        0              1     488.0                  50   \n",
       "2                        0              1     488.0                  50   \n",
       "3                        0              1     488.0                  50   \n",
       "4                        0              1     488.0                  50   \n",
       "\n",
       "   Points Redeemed  Dollar Cost Points Redeemed  \n",
       "0                0                            0  \n",
       "1                0                            0  \n",
       "2                0                            0  \n",
       "3                0                            0  \n",
       "4                0                            0  "
      ]
     },
     "execution_count": 83,
     "metadata": {},
     "output_type": "execute_result"
    }
   ],
   "source": [
    "# Let's check the categorical values were successfully converted to numerical values\n",
    "\n",
    "Airline_data.head()"
   ]
  },
  {
   "cell_type": "code",
   "execution_count": 84,
   "id": "85502237",
   "metadata": {},
   "outputs": [
    {
     "data": {
      "text/html": [
       "<div>\n",
       "<style scoped>\n",
       "    .dataframe tbody tr th:only-of-type {\n",
       "        vertical-align: middle;\n",
       "    }\n",
       "\n",
       "    .dataframe tbody tr th {\n",
       "        vertical-align: top;\n",
       "    }\n",
       "\n",
       "    .dataframe thead th {\n",
       "        text-align: right;\n",
       "    }\n",
       "</style>\n",
       "<table border=\"1\" class=\"dataframe\">\n",
       "  <thead>\n",
       "    <tr style=\"text-align: right;\">\n",
       "      <th></th>\n",
       "      <th>Gender</th>\n",
       "      <th>Education</th>\n",
       "      <th>Salary</th>\n",
       "      <th>Marital Status</th>\n",
       "      <th>Loyalty Card</th>\n",
       "      <th>CLV</th>\n",
       "      <th>Enrollment Type</th>\n",
       "      <th>Enrollment Year</th>\n",
       "      <th>Cancellation Year</th>\n",
       "      <th>Flights Booked</th>\n",
       "      <th>Flights with Companions</th>\n",
       "      <th>Total Flights</th>\n",
       "      <th>Distance</th>\n",
       "      <th>Points Accumulated</th>\n",
       "      <th>Points Redeemed</th>\n",
       "      <th>Dollar Cost Points Redeemed</th>\n",
       "    </tr>\n",
       "  </thead>\n",
       "  <tbody>\n",
       "    <tr>\n",
       "      <th>405612</th>\n",
       "      <td>0</td>\n",
       "      <td>1</td>\n",
       "      <td>73455.0</td>\n",
       "      <td>0</td>\n",
       "      <td>1</td>\n",
       "      <td>5780.18</td>\n",
       "      <td>0</td>\n",
       "      <td>2018</td>\n",
       "      <td>2018</td>\n",
       "      <td>15</td>\n",
       "      <td>0</td>\n",
       "      <td>15</td>\n",
       "      <td>2985.0</td>\n",
       "      <td>298</td>\n",
       "      <td>0</td>\n",
       "      <td>0</td>\n",
       "    </tr>\n",
       "    <tr>\n",
       "      <th>405613</th>\n",
       "      <td>0</td>\n",
       "      <td>1</td>\n",
       "      <td>73455.0</td>\n",
       "      <td>0</td>\n",
       "      <td>1</td>\n",
       "      <td>5780.18</td>\n",
       "      <td>0</td>\n",
       "      <td>2018</td>\n",
       "      <td>2018</td>\n",
       "      <td>14</td>\n",
       "      <td>0</td>\n",
       "      <td>14</td>\n",
       "      <td>4690.0</td>\n",
       "      <td>469</td>\n",
       "      <td>0</td>\n",
       "      <td>0</td>\n",
       "    </tr>\n",
       "    <tr>\n",
       "      <th>405614</th>\n",
       "      <td>0</td>\n",
       "      <td>1</td>\n",
       "      <td>73455.0</td>\n",
       "      <td>0</td>\n",
       "      <td>1</td>\n",
       "      <td>5780.18</td>\n",
       "      <td>0</td>\n",
       "      <td>2018</td>\n",
       "      <td>2018</td>\n",
       "      <td>11</td>\n",
       "      <td>1</td>\n",
       "      <td>12</td>\n",
       "      <td>2244.0</td>\n",
       "      <td>224</td>\n",
       "      <td>0</td>\n",
       "      <td>0</td>\n",
       "    </tr>\n",
       "    <tr>\n",
       "      <th>405616</th>\n",
       "      <td>0</td>\n",
       "      <td>1</td>\n",
       "      <td>73455.0</td>\n",
       "      <td>0</td>\n",
       "      <td>1</td>\n",
       "      <td>5780.18</td>\n",
       "      <td>0</td>\n",
       "      <td>2018</td>\n",
       "      <td>2018</td>\n",
       "      <td>1</td>\n",
       "      <td>0</td>\n",
       "      <td>1</td>\n",
       "      <td>896.0</td>\n",
       "      <td>89</td>\n",
       "      <td>0</td>\n",
       "      <td>0</td>\n",
       "    </tr>\n",
       "    <tr>\n",
       "      <th>405621</th>\n",
       "      <td>0</td>\n",
       "      <td>1</td>\n",
       "      <td>73455.0</td>\n",
       "      <td>0</td>\n",
       "      <td>1</td>\n",
       "      <td>5780.18</td>\n",
       "      <td>0</td>\n",
       "      <td>2018</td>\n",
       "      <td>2018</td>\n",
       "      <td>3</td>\n",
       "      <td>0</td>\n",
       "      <td>3</td>\n",
       "      <td>1233.0</td>\n",
       "      <td>123</td>\n",
       "      <td>0</td>\n",
       "      <td>0</td>\n",
       "    </tr>\n",
       "  </tbody>\n",
       "</table>\n",
       "</div>"
      ],
      "text/plain": [
       "        Gender  Education   Salary  Marital Status  Loyalty Card      CLV  \\\n",
       "405612       0          1  73455.0               0             1  5780.18   \n",
       "405613       0          1  73455.0               0             1  5780.18   \n",
       "405614       0          1  73455.0               0             1  5780.18   \n",
       "405616       0          1  73455.0               0             1  5780.18   \n",
       "405621       0          1  73455.0               0             1  5780.18   \n",
       "\n",
       "        Enrollment Type  Enrollment Year  Cancellation Year  Flights Booked  \\\n",
       "405612                0             2018               2018              15   \n",
       "405613                0             2018               2018              14   \n",
       "405614                0             2018               2018              11   \n",
       "405616                0             2018               2018               1   \n",
       "405621                0             2018               2018               3   \n",
       "\n",
       "        Flights with Companions  Total Flights  Distance  Points Accumulated  \\\n",
       "405612                        0             15    2985.0                 298   \n",
       "405613                        0             14    4690.0                 469   \n",
       "405614                        1             12    2244.0                 224   \n",
       "405616                        0              1     896.0                  89   \n",
       "405621                        0              3    1233.0                 123   \n",
       "\n",
       "        Points Redeemed  Dollar Cost Points Redeemed  \n",
       "405612                0                            0  \n",
       "405613                0                            0  \n",
       "405614                0                            0  \n",
       "405616                0                            0  \n",
       "405621                0                            0  "
      ]
     },
     "execution_count": 84,
     "metadata": {},
     "output_type": "execute_result"
    }
   ],
   "source": [
    "Airline_data.tail()"
   ]
  },
  {
   "cell_type": "code",
   "execution_count": null,
   "id": "b0a4cb16",
   "metadata": {},
   "outputs": [],
   "source": []
  },
  {
   "cell_type": "markdown",
   "id": "332633d5",
   "metadata": {},
   "source": [
    "# Correlation (Positive and Negative correlation)"
   ]
  },
  {
   "cell_type": "code",
   "execution_count": null,
   "id": "23be4011",
   "metadata": {},
   "outputs": [],
   "source": []
  },
  {
   "cell_type": "code",
   "execution_count": 85,
   "id": "bef16147",
   "metadata": {},
   "outputs": [],
   "source": [
    "correlation = Airline_data.corr()"
   ]
  },
  {
   "cell_type": "code",
   "execution_count": 86,
   "id": "b1c13a7c",
   "metadata": {},
   "outputs": [
    {
     "data": {
      "image/png": "[encoded data removed]",
      "text/plain": [
       "<Figure size 1080x720 with 2 Axes>"
      ]
     },
     "metadata": {},
     "output_type": "display_data"
    }
   ],
   "source": [
    "# Let's construct a heatmap to understand the correlation\n",
    "\n",
    "plt.figure(figsize = (15,10))\n",
    "sns.heatmap(Airline_data.corr(), annot = True)\n",
    "plt.title(\"Correlation Between the Columns\", fontsize=25)\n",
    "plt.show()"
   ]
  },
  {
   "cell_type": "code",
   "execution_count": null,
   "id": "1a0c6024",
   "metadata": {},
   "outputs": [],
   "source": []
  },
  {
   "cell_type": "markdown",
   "id": "c2c6164b",
   "metadata": {},
   "source": [
    "# Store Feature Variables in X and Target in Vector y"
   ]
  },
  {
   "cell_type": "code",
   "execution_count": null,
   "id": "ef8b964f",
   "metadata": {},
   "outputs": [],
   "source": []
  },
  {
   "cell_type": "code",
   "execution_count": 87,
   "id": "644ecbb7",
   "metadata": {},
   "outputs": [],
   "source": [
    "X = Airline_data.drop(\"CLV\", axis = 1)\n",
    "y = Airline_data[\"CLV\"]"
   ]
  },
  {
   "cell_type": "code",
   "execution_count": 88,
   "id": "dc96a937",
   "metadata": {},
   "outputs": [
    {
     "name": "stdout",
     "output_type": "stream",
     "text": [
      "        Gender  Education    Salary  Marital Status  Loyalty Card  \\\n",
      "0            0          1   83236.0               0             1   \n",
      "1            1          2   73455.0               2             1   \n",
      "2            1          2   73455.0               1             1   \n",
      "3            1          2   73455.0               1             1   \n",
      "4            1          1  103495.0               0             1   \n",
      "...        ...        ...       ...             ...           ...   \n",
      "405612       0          1   73455.0               0             1   \n",
      "405613       0          1   73455.0               0             1   \n",
      "405614       0          1   73455.0               0             1   \n",
      "405616       0          1   73455.0               0             1   \n",
      "405621       0          1   73455.0               0             1   \n",
      "\n",
      "        Enrollment Type  Enrollment Year  Cancellation Year  Flights Booked  \\\n",
      "0                     0             2016               2018               1   \n",
      "1                     0             2016               2018               1   \n",
      "2                     0             2014               2018               1   \n",
      "3                     0             2013               2018               1   \n",
      "4                     0             2014               2018               1   \n",
      "...                 ...              ...                ...             ...   \n",
      "405612                0             2018               2018              15   \n",
      "405613                0             2018               2018              14   \n",
      "405614                0             2018               2018              11   \n",
      "405616                0             2018               2018               1   \n",
      "405621                0             2018               2018               3   \n",
      "\n",
      "        Flights with Companions  Total Flights  Distance  Points Accumulated  \\\n",
      "0                             0              1     488.0                  50   \n",
      "1                             0              1     488.0                  50   \n",
      "2                             0              1     488.0                  50   \n",
      "3                             0              1     488.0                  50   \n",
      "4                             0              1     488.0                  50   \n",
      "...                         ...            ...       ...                 ...   \n",
      "405612                        0             15    2985.0                 298   \n",
      "405613                        0             14    4690.0                 469   \n",
      "405614                        1             12    2244.0                 224   \n",
      "405616                        0              1     896.0                  89   \n",
      "405621                        0              3    1233.0                 123   \n",
      "\n",
      "        Points Redeemed  Dollar Cost Points Redeemed  \n",
      "0                     0                            0  \n",
      "1                     0                            0  \n",
      "2                     0                            0  \n",
      "3                     0                            0  \n",
      "4                     0                            0  \n",
      "...                 ...                          ...  \n",
      "405612                0                            0  \n",
      "405613                0                            0  \n",
      "405614                0                            0  \n",
      "405616                0                            0  \n",
      "405621                0                            0  \n",
      "\n",
      "[257586 rows x 15 columns]\n"
     ]
    }
   ],
   "source": [
    "# Let's view the X values\n",
    "\n",
    "print(X)"
   ]
  },
  {
   "cell_type": "code",
   "execution_count": 89,
   "id": "4a832e1a",
   "metadata": {},
   "outputs": [
    {
     "name": "stdout",
     "output_type": "stream",
     "text": [
      "0         3839.14\n",
      "1         3839.61\n",
      "2         3839.75\n",
      "3         3839.75\n",
      "4         3842.79\n",
      "           ...   \n",
      "405612    5780.18\n",
      "405613    5780.18\n",
      "405614    5780.18\n",
      "405616    5780.18\n",
      "405621    5780.18\n",
      "Name: CLV, Length: 257586, dtype: float64\n"
     ]
    }
   ],
   "source": [
    "# Let's also view the y values\n",
    "\n",
    "print(y)"
   ]
  },
  {
   "cell_type": "code",
   "execution_count": null,
   "id": "875e2d1a",
   "metadata": {},
   "outputs": [],
   "source": []
  },
  {
   "cell_type": "markdown",
   "id": "c1282e4f",
   "metadata": {},
   "source": [
    "# Splitting The Dataset into Training and Test data"
   ]
  },
  {
   "cell_type": "code",
   "execution_count": null,
   "id": "629275b7",
   "metadata": {},
   "outputs": [],
   "source": []
  },
  {
   "cell_type": "code",
   "execution_count": 90,
   "id": "f28e0168",
   "metadata": {},
   "outputs": [],
   "source": [
    "from sklearn.model_selection import train_test_split"
   ]
  },
  {
   "cell_type": "code",
   "execution_count": 91,
   "id": "32124c3a",
   "metadata": {},
   "outputs": [],
   "source": [
    "# Let's split the data into training and test train\n",
    "\n",
    "X_train, X_test, y_train, y_test = train_test_split(X, y, test_size = 0.2, random_state = 42)"
   ]
  },
  {
   "cell_type": "code",
   "execution_count": 92,
   "id": "f95daa78",
   "metadata": {},
   "outputs": [
    {
     "name": "stdout",
     "output_type": "stream",
     "text": [
      "(257586, 15) (206068, 15) (51518, 15)\n"
     ]
    }
   ],
   "source": [
    "# let's check the shapes of x_train and x_test\n",
    "\n",
    "print(X.shape, X_train.shape, X_test.shape)"
   ]
  },
  {
   "cell_type": "code",
   "execution_count": null,
   "id": "4fde1621",
   "metadata": {},
   "outputs": [],
   "source": []
  },
  {
   "cell_type": "markdown",
   "id": "5287529c",
   "metadata": {},
   "source": [
    "# Feature Scaling"
   ]
  },
  {
   "cell_type": "code",
   "execution_count": null,
   "id": "87d6622b",
   "metadata": {},
   "outputs": [],
   "source": []
  },
  {
   "cell_type": "code",
   "execution_count": 93,
   "id": "a891f5e0",
   "metadata": {},
   "outputs": [],
   "source": [
    "from sklearn.preprocessing import StandardScaler"
   ]
  },
  {
   "cell_type": "code",
   "execution_count": 94,
   "id": "546403ce",
   "metadata": {},
   "outputs": [],
   "source": [
    "Sc = StandardScaler()"
   ]
  },
  {
   "cell_type": "code",
   "execution_count": 95,
   "id": "ef4782be",
   "metadata": {},
   "outputs": [],
   "source": [
    "X_train = Sc.fit_transform(X_train)\n",
    "X_test = Sc.transform(X_test)"
   ]
  },
  {
   "cell_type": "code",
   "execution_count": 96,
   "id": "9d5c0ded",
   "metadata": {},
   "outputs": [
    {
     "data": {
      "text/plain": [
       "array([[-0.18340475, -0.13431737, -0.03574351, ..., -0.16701911,\n",
       "        -0.31196816, -0.31217046],\n",
       "       [-0.18340475, -0.13431737, -0.03574351, ...,  1.5504002 ,\n",
       "        -0.31196816, -0.31217046],\n",
       "       [-0.18340475, -0.13431737, -0.03574351, ..., -0.34167192,\n",
       "        -0.31196816, -0.31217046],\n",
       "       ...,\n",
       "       [-0.18340475, -0.13431737, -0.03574351, ..., -0.39988952,\n",
       "        -0.31196816, -0.31217046],\n",
       "       [-0.18340475, -0.13431737, -0.03574351, ..., -1.44052919,\n",
       "        -0.31196816, -0.31217046],\n",
       "       [-0.18340475, -0.13431737, -0.03574351, ...,  0.10223731,\n",
       "        -0.31196816, -0.31217046]])"
      ]
     },
     "execution_count": 96,
     "metadata": {},
     "output_type": "execute_result"
    }
   ],
   "source": [
    "# Let's print out the X_train\n",
    "\n",
    "X_train"
   ]
  },
  {
   "cell_type": "code",
   "execution_count": 97,
   "id": "5928bc97",
   "metadata": {},
   "outputs": [
    {
     "data": {
      "text/plain": [
       "array([[-1.83404752e-01, -1.34317369e-01, -3.57435084e-02, ...,\n",
       "         7.64462548e-01, -3.11968158e-01, -3.12170462e-01],\n",
       "       [-1.83404752e-01, -1.34317369e-01, -3.57435084e-02, ...,\n",
       "        -1.44052919e+00, -3.11968158e-01, -3.12170462e-01],\n",
       "       [-1.83404752e-01, -1.34317369e-01, -3.57435084e-02, ...,\n",
       "        -1.44052919e+00, -3.11968158e-01, -3.12170462e-01],\n",
       "       ...,\n",
       "       [-1.83404752e-01, -1.34317369e-01, -3.57435084e-02, ...,\n",
       "         3.13276120e-01, -3.11968158e-01, -3.12170462e-01],\n",
       "       [-1.83404752e-01, -1.34317369e-01, -3.57435084e-02, ...,\n",
       "         3.56500469e-04, -3.11968158e-01, -3.12170462e-01],\n",
       "       [-1.83404752e-01, -1.34317369e-01, -3.57435084e-02, ...,\n",
       "         2.98721719e-01, -3.11968158e-01, -3.12170462e-01]])"
      ]
     },
     "execution_count": 97,
     "metadata": {},
     "output_type": "execute_result"
    }
   ],
   "source": [
    "# Let's print out the X_test\n",
    "\n",
    "X_test"
   ]
  },
  {
   "cell_type": "code",
   "execution_count": null,
   "id": "5a897b55",
   "metadata": {},
   "outputs": [],
   "source": []
  },
  {
   "cell_type": "markdown",
   "id": "cb339836",
   "metadata": {},
   "source": [
    "# Import the Models"
   ]
  },
  {
   "cell_type": "code",
   "execution_count": null,
   "id": "654baaaf",
   "metadata": {},
   "outputs": [],
   "source": []
  },
  {
   "cell_type": "code",
   "execution_count": 98,
   "id": "65e2c0c2",
   "metadata": {},
   "outputs": [],
   "source": [
    "# Let's import the models needed for the prediction\n",
    "\n",
    "from sklearn.linear_model import LinearRegression\n",
    "from sklearn.ensemble import RandomForestRegressor\n",
    "from sklearn.ensemble import GradientBoostingRegressor\n",
    "from sklearn.metrics import mean_absolute_error, mean_squared_error, r2_score"
   ]
  },
  {
   "cell_type": "code",
   "execution_count": null,
   "id": "528ff71a",
   "metadata": {},
   "outputs": [],
   "source": []
  },
  {
   "cell_type": "markdown",
   "id": "d21b2511",
   "metadata": {},
   "source": [
    "# Linear Regression Model"
   ]
  },
  {
   "cell_type": "code",
   "execution_count": null,
   "id": "9155d68c",
   "metadata": {},
   "outputs": [],
   "source": []
  },
  {
   "cell_type": "code",
   "execution_count": 101,
   "id": "c63ab82e",
   "metadata": {},
   "outputs": [
    {
     "name": "stdout",
     "output_type": "stream",
     "text": [
      "Linear Regression Metrics:\n",
      "Mean Absolute Error (MAE): 279.34\n",
      "Mean Squared Error (MSE): 2865052.44\n",
      "R-squared (R2) Score: 0.13\n"
     ]
    }
   ],
   "source": [
    "# Instantiate the Linear Regression Model\n",
    "Lr = LinearRegression()\n",
    "\n",
    "# Train the model\n",
    "Lr.fit(X_train, y_train)\n",
    "\n",
    "# Make predictions\n",
    "y_pred_Lr = Lr.predict(X_test)\n",
    "\n",
    "# Calculate the evaluation metrics\n",
    "Mae_Lr = mean_absolute_error(y_test, y_pred_Lr)\n",
    "Mse_Lr = mean_squared_error(y_test, y_pred_Lr)\n",
    "r2_Lr = r2_score(y_test, y_pred_Lr)\n",
    "\n",
    "# Print the evaluation metrics\n",
    "print(\"Linear Regression Metrics:\")\n",
    "print(f\"Mean Absolute Error (MAE): {Mae_Lr:.2f}\")\n",
    "print(f\"Mean Squared Error (MSE): {Mse_Lr:.2f}\")\n",
    "print(f\"R-squared (R2) Score: {r2_Lr:.2f}\")"
   ]
  },
  {
   "cell_type": "code",
   "execution_count": null,
   "id": "7ad63bd1",
   "metadata": {},
   "outputs": [],
   "source": []
  },
  {
   "cell_type": "markdown",
   "id": "053e904b",
   "metadata": {},
   "source": [
    "# Random Forest Regressor Model"
   ]
  },
  {
   "cell_type": "code",
   "execution_count": null,
   "id": "c677c2bd",
   "metadata": {},
   "outputs": [],
   "source": []
  },
  {
   "cell_type": "code",
   "execution_count": 110,
   "id": "229ae561",
   "metadata": {},
   "outputs": [
    {
     "name": "stdout",
     "output_type": "stream",
     "text": [
      "Mean Absolute Error (MAE): 274.11062413945365\n",
      "Mean Squared Error (MSE): 2958040.134892396\n",
      "R-squared (R2) score: 0.10204397065956095\n"
     ]
    }
   ],
   "source": [
    "# Instantiate the Random Forest Regressor Model\n",
    "Rf_regressor = RandomForestRegressor()\n",
    "\n",
    "# Train the model\n",
    "Rf_regressor.fit(X_train, y_train)\n",
    "\n",
    "# Make predictions\n",
    "y_pred_Rf = Rf_regressor.predict(X_test)\n",
    "\n",
    "# Calculate the evaluation metrics\n",
    "Mae_Rf = mean_absolute_error(y_test, y_pred_Rf)\n",
    "Mse_Rf = mean_squared_error(y_test, y_pred_Rf)\n",
    "r2_Rf = r2_score(y_test, y_pred_Rf)\n",
    "\n",
    "\n",
    "# Print the evaluation metrics\n",
    "print(\"Mean Absolute Error (MAE):\", Mae_Rf)\n",
    "print(\"Mean Squared Error (MSE):\", Mse_Rf)\n",
    "print(\"R-squared (R2) score:\", r2_Rf)"
   ]
  },
  {
   "cell_type": "code",
   "execution_count": null,
   "id": "76f608f4",
   "metadata": {},
   "outputs": [],
   "source": []
  },
  {
   "cell_type": "markdown",
   "id": "59fee2ba",
   "metadata": {},
   "source": [
    "# Gradient Boosting Regressor Model"
   ]
  },
  {
   "cell_type": "code",
   "execution_count": null,
   "id": "f3fad9cc",
   "metadata": {},
   "outputs": [],
   "source": []
  },
  {
   "cell_type": "code",
   "execution_count": 111,
   "id": "534e5cfc",
   "metadata": {},
   "outputs": [
    {
     "name": "stdout",
     "output_type": "stream",
     "text": [
      "Mean Absolute Error (MAE): 268.08\n",
      "Mean Squared Error (MSE): 2749628.40\n",
      "R-squared (R2) Score: 0.17\n"
     ]
    }
   ],
   "source": [
    "# Instantiate the Gradient Boosting Regressor model\n",
    "Gb_regressor = GradientBoostingRegressor()\n",
    "\n",
    "# Train the model\n",
    "Gb_regressor.fit(X_train, y_train)\n",
    "\n",
    "# Make predictions\n",
    "y_pred = Gb_regressor.predict(X_test)\n",
    "\n",
    "# Calculate regression evaluation metrics\n",
    "Mae = mean_absolute_error(y_test, y_pred)\n",
    "Mse = mean_squared_error(y_test, y_pred)\n",
    "r2 = r2_score(y_test, y_pred)\n",
    "\n",
    "# Print the metrics\n",
    "print(f\"Mean Absolute Error (MAE): {Mae:.2f}\")\n",
    "print(f\"Mean Squared Error (MSE): {Mse:.2f}\")\n",
    "print(f\"R-squared (R2) Score: {r2:.2f}\")"
   ]
  },
  {
   "cell_type": "code",
   "execution_count": null,
   "id": "f3dd1c7a",
   "metadata": {},
   "outputs": [],
   "source": []
  },
  {
   "cell_type": "markdown",
   "id": "65c48613",
   "metadata": {},
   "source": [
    "# Let's Save The Model"
   ]
  },
  {
   "cell_type": "code",
   "execution_count": null,
   "id": "0a54c297",
   "metadata": {},
   "outputs": [],
   "source": []
  },
  {
   "cell_type": "code",
   "execution_count": 112,
   "id": "5b67d6fc",
   "metadata": {},
   "outputs": [],
   "source": [
    "# Let's save our model on entire dataset\n",
    "\n",
    "Lr = LinearRegression()\n",
    "Lr_final = Lr.fit(X, y)"
   ]
  },
  {
   "cell_type": "code",
   "execution_count": 113,
   "id": "b425ba1b",
   "metadata": {},
   "outputs": [],
   "source": [
    "# Let's import joblib library\n",
    "\n",
    "import joblib"
   ]
  },
  {
   "cell_type": "code",
   "execution_count": 115,
   "id": "fb81c578",
   "metadata": {},
   "outputs": [
    {
     "data": {
      "text/plain": [
       "['Airline Loyalty Predictor']"
      ]
     },
     "execution_count": 115,
     "metadata": {},
     "output_type": "execute_result"
    }
   ],
   "source": [
    "joblib.dump(Lr_final, \"Airline Loyalty Predictor\")"
   ]
  },
  {
   "cell_type": "markdown",
   "id": "48b4ea5a",
   "metadata": {},
   "source": [
    "### Our best model has been saved with Airline Loyalty Predictor which means \"Airline Loyalty Predictor\" will be used for future prediction."
   ]
  },
  {
   "cell_type": "code",
   "execution_count": null,
   "id": "67ce25a3",
   "metadata": {},
   "outputs": [],
   "source": []
  },
  {
   "cell_type": "markdown",
   "id": "eea24c93",
   "metadata": {},
   "source": [
    "# Let's Load The Saved Model"
   ]
  },
  {
   "cell_type": "code",
   "execution_count": null,
   "id": "cceca6f8",
   "metadata": {},
   "outputs": [],
   "source": []
  },
  {
   "cell_type": "code",
   "execution_count": 116,
   "id": "33c9a593",
   "metadata": {},
   "outputs": [],
   "source": [
    "Model = joblib.load(\"Airline Loyalty Predictor\")"
   ]
  },
  {
   "cell_type": "code",
   "execution_count": null,
   "id": "02ed3223",
   "metadata": {},
   "outputs": [],
   "source": []
  },
  {
   "cell_type": "markdown",
   "id": "6819fd47",
   "metadata": {},
   "source": [
    "# Prediction on New Data"
   ]
  },
  {
   "cell_type": "code",
   "execution_count": null,
   "id": "e0d496d2",
   "metadata": {},
   "outputs": [],
   "source": []
  },
  {
   "cell_type": "code",
   "execution_count": 117,
   "id": "47534f73",
   "metadata": {},
   "outputs": [
    {
     "data": {
      "text/html": [
       "<div>\n",
       "<style scoped>\n",
       "    .dataframe tbody tr th:only-of-type {\n",
       "        vertical-align: middle;\n",
       "    }\n",
       "\n",
       "    .dataframe tbody tr th {\n",
       "        vertical-align: top;\n",
       "    }\n",
       "\n",
       "    .dataframe thead th {\n",
       "        text-align: right;\n",
       "    }\n",
       "</style>\n",
       "<table border=\"1\" class=\"dataframe\">\n",
       "  <thead>\n",
       "    <tr style=\"text-align: right;\">\n",
       "      <th></th>\n",
       "      <th>Gender</th>\n",
       "      <th>Education</th>\n",
       "      <th>Salary</th>\n",
       "      <th>Marital Status</th>\n",
       "      <th>Loyalty Card</th>\n",
       "      <th>CLV</th>\n",
       "      <th>Enrollment Type</th>\n",
       "      <th>Enrollment Year</th>\n",
       "      <th>Cancellation Year</th>\n",
       "      <th>Flights Booked</th>\n",
       "      <th>Flights with Companions</th>\n",
       "      <th>Total Flights</th>\n",
       "      <th>Distance</th>\n",
       "      <th>Points Accumulated</th>\n",
       "      <th>Points Redeemed</th>\n",
       "      <th>Dollar Cost Points Redeemed</th>\n",
       "    </tr>\n",
       "  </thead>\n",
       "  <tbody>\n",
       "    <tr>\n",
       "      <th>405612</th>\n",
       "      <td>0</td>\n",
       "      <td>1</td>\n",
       "      <td>73455.0</td>\n",
       "      <td>0</td>\n",
       "      <td>1</td>\n",
       "      <td>5780.18</td>\n",
       "      <td>0</td>\n",
       "      <td>2018</td>\n",
       "      <td>2018</td>\n",
       "      <td>15</td>\n",
       "      <td>0</td>\n",
       "      <td>15</td>\n",
       "      <td>2985.0</td>\n",
       "      <td>298</td>\n",
       "      <td>0</td>\n",
       "      <td>0</td>\n",
       "    </tr>\n",
       "    <tr>\n",
       "      <th>405613</th>\n",
       "      <td>0</td>\n",
       "      <td>1</td>\n",
       "      <td>73455.0</td>\n",
       "      <td>0</td>\n",
       "      <td>1</td>\n",
       "      <td>5780.18</td>\n",
       "      <td>0</td>\n",
       "      <td>2018</td>\n",
       "      <td>2018</td>\n",
       "      <td>14</td>\n",
       "      <td>0</td>\n",
       "      <td>14</td>\n",
       "      <td>4690.0</td>\n",
       "      <td>469</td>\n",
       "      <td>0</td>\n",
       "      <td>0</td>\n",
       "    </tr>\n",
       "    <tr>\n",
       "      <th>405614</th>\n",
       "      <td>0</td>\n",
       "      <td>1</td>\n",
       "      <td>73455.0</td>\n",
       "      <td>0</td>\n",
       "      <td>1</td>\n",
       "      <td>5780.18</td>\n",
       "      <td>0</td>\n",
       "      <td>2018</td>\n",
       "      <td>2018</td>\n",
       "      <td>11</td>\n",
       "      <td>1</td>\n",
       "      <td>12</td>\n",
       "      <td>2244.0</td>\n",
       "      <td>224</td>\n",
       "      <td>0</td>\n",
       "      <td>0</td>\n",
       "    </tr>\n",
       "    <tr>\n",
       "      <th>405616</th>\n",
       "      <td>0</td>\n",
       "      <td>1</td>\n",
       "      <td>73455.0</td>\n",
       "      <td>0</td>\n",
       "      <td>1</td>\n",
       "      <td>5780.18</td>\n",
       "      <td>0</td>\n",
       "      <td>2018</td>\n",
       "      <td>2018</td>\n",
       "      <td>1</td>\n",
       "      <td>0</td>\n",
       "      <td>1</td>\n",
       "      <td>896.0</td>\n",
       "      <td>89</td>\n",
       "      <td>0</td>\n",
       "      <td>0</td>\n",
       "    </tr>\n",
       "    <tr>\n",
       "      <th>405621</th>\n",
       "      <td>0</td>\n",
       "      <td>1</td>\n",
       "      <td>73455.0</td>\n",
       "      <td>0</td>\n",
       "      <td>1</td>\n",
       "      <td>5780.18</td>\n",
       "      <td>0</td>\n",
       "      <td>2018</td>\n",
       "      <td>2018</td>\n",
       "      <td>3</td>\n",
       "      <td>0</td>\n",
       "      <td>3</td>\n",
       "      <td>1233.0</td>\n",
       "      <td>123</td>\n",
       "      <td>0</td>\n",
       "      <td>0</td>\n",
       "    </tr>\n",
       "  </tbody>\n",
       "</table>\n",
       "</div>"
      ],
      "text/plain": [
       "        Gender  Education   Salary  Marital Status  Loyalty Card      CLV  \\\n",
       "405612       0          1  73455.0               0             1  5780.18   \n",
       "405613       0          1  73455.0               0             1  5780.18   \n",
       "405614       0          1  73455.0               0             1  5780.18   \n",
       "405616       0          1  73455.0               0             1  5780.18   \n",
       "405621       0          1  73455.0               0             1  5780.18   \n",
       "\n",
       "        Enrollment Type  Enrollment Year  Cancellation Year  Flights Booked  \\\n",
       "405612                0             2018               2018              15   \n",
       "405613                0             2018               2018              14   \n",
       "405614                0             2018               2018              11   \n",
       "405616                0             2018               2018               1   \n",
       "405621                0             2018               2018               3   \n",
       "\n",
       "        Flights with Companions  Total Flights  Distance  Points Accumulated  \\\n",
       "405612                        0             15    2985.0                 298   \n",
       "405613                        0             14    4690.0                 469   \n",
       "405614                        1             12    2244.0                 224   \n",
       "405616                        0              1     896.0                  89   \n",
       "405621                        0              3    1233.0                 123   \n",
       "\n",
       "        Points Redeemed  Dollar Cost Points Redeemed  \n",
       "405612                0                            0  \n",
       "405613                0                            0  \n",
       "405614                0                            0  \n",
       "405616                0                            0  \n",
       "405621                0                            0  "
      ]
     },
     "execution_count": 117,
     "metadata": {},
     "output_type": "execute_result"
    }
   ],
   "source": [
    "# Let's view our data\n",
    "Airline_data.tail()"
   ]
  },
  {
   "cell_type": "code",
   "execution_count": 118,
   "id": "6f39891d",
   "metadata": {},
   "outputs": [
    {
     "data": {
      "text/html": [
       "<div>\n",
       "<style scoped>\n",
       "    .dataframe tbody tr th:only-of-type {\n",
       "        vertical-align: middle;\n",
       "    }\n",
       "\n",
       "    .dataframe tbody tr th {\n",
       "        vertical-align: top;\n",
       "    }\n",
       "\n",
       "    .dataframe thead th {\n",
       "        text-align: right;\n",
       "    }\n",
       "</style>\n",
       "<table border=\"1\" class=\"dataframe\">\n",
       "  <thead>\n",
       "    <tr style=\"text-align: right;\">\n",
       "      <th></th>\n",
       "      <th>Gender</th>\n",
       "      <th>Education</th>\n",
       "      <th>Salary</th>\n",
       "      <th>Marital Status</th>\n",
       "      <th>Loyalty Card</th>\n",
       "      <th>CLV</th>\n",
       "      <th>Enrollment Type</th>\n",
       "      <th>Enrollment Year</th>\n",
       "      <th>Cancellation Year</th>\n",
       "      <th>Flights Booked</th>\n",
       "      <th>Flights with Companions</th>\n",
       "      <th>Total Flights</th>\n",
       "      <th>Distance</th>\n",
       "      <th>Points Accumulated</th>\n",
       "      <th>Points Redeemed</th>\n",
       "      <th>Dollar Cost Points Redeemed</th>\n",
       "    </tr>\n",
       "  </thead>\n",
       "  <tbody>\n",
       "    <tr>\n",
       "      <th>0</th>\n",
       "      <td>0</td>\n",
       "      <td>1</td>\n",
       "      <td>83236.0</td>\n",
       "      <td>0</td>\n",
       "      <td>1</td>\n",
       "      <td>3839.14</td>\n",
       "      <td>0</td>\n",
       "      <td>2016</td>\n",
       "      <td>2018</td>\n",
       "      <td>1</td>\n",
       "      <td>0</td>\n",
       "      <td>1</td>\n",
       "      <td>488.0</td>\n",
       "      <td>50</td>\n",
       "      <td>0</td>\n",
       "      <td>0</td>\n",
       "    </tr>\n",
       "    <tr>\n",
       "      <th>1</th>\n",
       "      <td>1</td>\n",
       "      <td>2</td>\n",
       "      <td>73455.0</td>\n",
       "      <td>2</td>\n",
       "      <td>1</td>\n",
       "      <td>3839.61</td>\n",
       "      <td>0</td>\n",
       "      <td>2016</td>\n",
       "      <td>2018</td>\n",
       "      <td>1</td>\n",
       "      <td>0</td>\n",
       "      <td>1</td>\n",
       "      <td>488.0</td>\n",
       "      <td>50</td>\n",
       "      <td>0</td>\n",
       "      <td>0</td>\n",
       "    </tr>\n",
       "    <tr>\n",
       "      <th>2</th>\n",
       "      <td>1</td>\n",
       "      <td>2</td>\n",
       "      <td>73455.0</td>\n",
       "      <td>1</td>\n",
       "      <td>1</td>\n",
       "      <td>3839.75</td>\n",
       "      <td>0</td>\n",
       "      <td>2014</td>\n",
       "      <td>2018</td>\n",
       "      <td>1</td>\n",
       "      <td>0</td>\n",
       "      <td>1</td>\n",
       "      <td>488.0</td>\n",
       "      <td>50</td>\n",
       "      <td>0</td>\n",
       "      <td>0</td>\n",
       "    </tr>\n",
       "    <tr>\n",
       "      <th>3</th>\n",
       "      <td>1</td>\n",
       "      <td>2</td>\n",
       "      <td>73455.0</td>\n",
       "      <td>1</td>\n",
       "      <td>1</td>\n",
       "      <td>3839.75</td>\n",
       "      <td>0</td>\n",
       "      <td>2013</td>\n",
       "      <td>2018</td>\n",
       "      <td>1</td>\n",
       "      <td>0</td>\n",
       "      <td>1</td>\n",
       "      <td>488.0</td>\n",
       "      <td>50</td>\n",
       "      <td>0</td>\n",
       "      <td>0</td>\n",
       "    </tr>\n",
       "    <tr>\n",
       "      <th>4</th>\n",
       "      <td>1</td>\n",
       "      <td>1</td>\n",
       "      <td>103495.0</td>\n",
       "      <td>0</td>\n",
       "      <td>1</td>\n",
       "      <td>3842.79</td>\n",
       "      <td>0</td>\n",
       "      <td>2014</td>\n",
       "      <td>2018</td>\n",
       "      <td>1</td>\n",
       "      <td>0</td>\n",
       "      <td>1</td>\n",
       "      <td>488.0</td>\n",
       "      <td>50</td>\n",
       "      <td>0</td>\n",
       "      <td>0</td>\n",
       "    </tr>\n",
       "  </tbody>\n",
       "</table>\n",
       "</div>"
      ],
      "text/plain": [
       "   Gender  Education    Salary  Marital Status  Loyalty Card      CLV  \\\n",
       "0       0          1   83236.0               0             1  3839.14   \n",
       "1       1          2   73455.0               2             1  3839.61   \n",
       "2       1          2   73455.0               1             1  3839.75   \n",
       "3       1          2   73455.0               1             1  3839.75   \n",
       "4       1          1  103495.0               0             1  3842.79   \n",
       "\n",
       "   Enrollment Type  Enrollment Year  Cancellation Year  Flights Booked  \\\n",
       "0                0             2016               2018               1   \n",
       "1                0             2016               2018               1   \n",
       "2                0             2014               2018               1   \n",
       "3                0             2013               2018               1   \n",
       "4                0             2014               2018               1   \n",
       "\n",
       "   Flights with Companions  Total Flights  Distance  Points Accumulated  \\\n",
       "0                        0              1     488.0                  50   \n",
       "1                        0              1     488.0                  50   \n",
       "2                        0              1     488.0                  50   \n",
       "3                        0              1     488.0                  50   \n",
       "4                        0              1     488.0                  50   \n",
       "\n",
       "   Points Redeemed  Dollar Cost Points Redeemed  \n",
       "0                0                            0  \n",
       "1                0                            0  \n",
       "2                0                            0  \n",
       "3                0                            0  \n",
       "4                0                            0  "
      ]
     },
     "execution_count": 118,
     "metadata": {},
     "output_type": "execute_result"
    }
   ],
   "source": [
    "Airline_data.head()"
   ]
  },
  {
   "cell_type": "code",
   "execution_count": null,
   "id": "73ce1641",
   "metadata": {},
   "outputs": [],
   "source": []
  },
  {
   "cell_type": "code",
   "execution_count": 125,
   "id": "14f4808f",
   "metadata": {},
   "outputs": [],
   "source": [
    "import pandas as pd\n",
    "New_data = pd.DataFrame({\n",
    "    \"Gender\" :1,\n",
    "    \"Education\" :2,\n",
    "    \"Salary\" :67456.0,\n",
    "    \"Marital Status\" :2,\n",
    "    \"Loyalty Card\" :2,\n",
    "    \"Enrollment Type\" :2,\n",
    "    \"Enrollment Year\" :2018,\n",
    "    \"Cancellation Year\" :2015,\n",
    "    \"Flights Booked\" :10,\n",
    "    \"Flights with Companions\" :3,\n",
    "    \"Total Flights\" :14,\n",
    "    \"Distance\" :5000,\n",
    "    \"Points Accumulated\" :300,\n",
    "    \"Points Redeemed\" :3,\n",
    "    \"Dollar Cost Points Redeemed\" :50,\n",
    "}, index=[0])"
   ]
  },
  {
   "cell_type": "code",
   "execution_count": 126,
   "id": "724d23f0",
   "metadata": {},
   "outputs": [
    {
     "data": {
      "text/html": [
       "<div>\n",
       "<style scoped>\n",
       "    .dataframe tbody tr th:only-of-type {\n",
       "        vertical-align: middle;\n",
       "    }\n",
       "\n",
       "    .dataframe tbody tr th {\n",
       "        vertical-align: top;\n",
       "    }\n",
       "\n",
       "    .dataframe thead th {\n",
       "        text-align: right;\n",
       "    }\n",
       "</style>\n",
       "<table border=\"1\" class=\"dataframe\">\n",
       "  <thead>\n",
       "    <tr style=\"text-align: right;\">\n",
       "      <th></th>\n",
       "      <th>Gender</th>\n",
       "      <th>Education</th>\n",
       "      <th>Salary</th>\n",
       "      <th>Marital Status</th>\n",
       "      <th>Loyalty Card</th>\n",
       "      <th>Enrollment Type</th>\n",
       "      <th>Enrollment Year</th>\n",
       "      <th>Cancellation Year</th>\n",
       "      <th>Flights Booked</th>\n",
       "      <th>Flights with Companions</th>\n",
       "      <th>Total Flights</th>\n",
       "      <th>Distance</th>\n",
       "      <th>Points Accumulated</th>\n",
       "      <th>Points Redeemed</th>\n",
       "      <th>Dollar Cost Points Redeemed</th>\n",
       "    </tr>\n",
       "  </thead>\n",
       "  <tbody>\n",
       "    <tr>\n",
       "      <th>0</th>\n",
       "      <td>1</td>\n",
       "      <td>2</td>\n",
       "      <td>67456.0</td>\n",
       "      <td>2</td>\n",
       "      <td>2</td>\n",
       "      <td>2</td>\n",
       "      <td>2018</td>\n",
       "      <td>2015</td>\n",
       "      <td>10</td>\n",
       "      <td>3</td>\n",
       "      <td>14</td>\n",
       "      <td>5000</td>\n",
       "      <td>300</td>\n",
       "      <td>3</td>\n",
       "      <td>50</td>\n",
       "    </tr>\n",
       "  </tbody>\n",
       "</table>\n",
       "</div>"
      ],
      "text/plain": [
       "   Gender  Education   Salary  Marital Status  Loyalty Card  Enrollment Type  \\\n",
       "0       1          2  67456.0               2             2                2   \n",
       "\n",
       "   Enrollment Year  Cancellation Year  Flights Booked  \\\n",
       "0             2018               2015              10   \n",
       "\n",
       "   Flights with Companions  Total Flights  Distance  Points Accumulated  \\\n",
       "0                        3             14      5000                 300   \n",
       "\n",
       "   Points Redeemed  Dollar Cost Points Redeemed  \n",
       "0                3                           50  "
      ]
     },
     "execution_count": 126,
     "metadata": {},
     "output_type": "execute_result"
    }
   ],
   "source": [
    "# Let's view our New data\n",
    "\n",
    "New_data"
   ]
  },
  {
   "cell_type": "code",
   "execution_count": 127,
   "id": "bdd00a49",
   "metadata": {},
   "outputs": [
    {
     "data": {
      "text/plain": [
       "array([9629.21398649])"
      ]
     },
     "execution_count": 127,
     "metadata": {},
     "output_type": "execute_result"
    }
   ],
   "source": [
    "# Let's make a prediction using the new data\n",
    "\n",
    "Model.predict(New_data)"
   ]
  },
  {
   "cell_type": "markdown",
   "id": "ebe07b2a",
   "metadata": {},
   "source": [
    "### you can see the linear regression model predicted the customer lifetime value of a new member to be 9,629 Canadian dollars."
   ]
  },
  {
   "cell_type": "code",
   "execution_count": null,
   "id": "f36c09bd",
   "metadata": {},
   "outputs": [],
   "source": []
  }
 ],
 "metadata": {
  "kernelspec": {
   "display_name": "Python 3 (ipykernel)",
   "language": "python",
   "name": "python3"
  },
  "language_info": {
   "codemirror_mode": {
    "name": "ipython",
    "version": 3
   },
   "file_extension": ".py",
   "mimetype": "text/x-python",
   "name": "python",
   "nbconvert_exporter": "python",
   "pygments_lexer": "ipython3",
   "version": "3.9.12"
  }
 },
 "nbformat": 4,
 "nbformat_minor": 5
}
